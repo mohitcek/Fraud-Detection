{
 "cells": [
  {
   "cell_type": "markdown",
   "id": "7cb10446-0954-45ff-a947-b0e41d9db346",
   "metadata": {},
   "source": [
    "## Fraud Detection"
   ]
  },
  {
   "cell_type": "markdown",
   "id": "8c7c8a20-5774-467f-83d6-26ea43cce2b8",
   "metadata": {},
   "source": [
    "This notebook presents an implementation of machine learning model for Fraud Detection on financial dataset. The main focus is to develop a robust model for anamoly detection with high efficency.\n",
    "\n",
    "We present a synthetic dataset generated using the simulator called PaySim as an approach to such a problem. PaySim uses aggregated data from the private dataset to generate a synthetic dataset that resembles the normal operation of transactions and injects malicious behaviour to later evaluate the performance of fraud detection methods."
   ]
  },
  {
   "cell_type": "markdown",
   "id": "e4e0105f-e222-408f-94d4-2d2f04d1432d",
   "metadata": {},
   "source": [
    "Content of the notebook:\n",
    "- 1. Read Data\n",
    "- 2. Exploratory Data Analysis\n",
    "- 3. Data Preprocessing\n",
    "- 4. Model Development\n",
    "  - 4.1 Random Forest\n",
    "  - 4.2 Random Forest with SMOTE\n",
    "- 5. Results\n",
    "- 6. Discussion"
   ]
  },
  {
   "cell_type": "markdown",
   "id": "9afab258-c5ea-43fc-b7a4-78e66b92a5e3",
   "metadata": {},
   "source": [
    "Import the necessary libraries for data analysis and visualization."
   ]
  },
  {
   "cell_type": "code",
   "execution_count": 1,
   "id": "1fafa342-cc3d-4d1b-8a07-bacd35b88a01",
   "metadata": {},
   "outputs": [
    {
     "ename": "KeyboardInterrupt",
     "evalue": "",
     "output_type": "error",
     "traceback": [
      "\u001b[0;31m---------------------------------------------------------------------------\u001b[0m",
      "\u001b[0;31mKeyboardInterrupt\u001b[0m                         Traceback (most recent call last)",
      "Cell \u001b[0;32mIn[1], line 2\u001b[0m\n\u001b[1;32m      1\u001b[0m \u001b[38;5;28;01mimport\u001b[39;00m \u001b[38;5;21;01mtime\u001b[39;00m\n\u001b[0;32m----> 2\u001b[0m \u001b[38;5;28;01mimport\u001b[39;00m \u001b[38;5;21;01mnumpy\u001b[39;00m \u001b[38;5;28;01mas\u001b[39;00m \u001b[38;5;21;01mnp\u001b[39;00m\n\u001b[1;32m      3\u001b[0m \u001b[38;5;28;01mimport\u001b[39;00m \u001b[38;5;21;01mpandas\u001b[39;00m \u001b[38;5;28;01mas\u001b[39;00m \u001b[38;5;21;01mpd\u001b[39;00m\n\u001b[1;32m      4\u001b[0m \u001b[38;5;28;01mimport\u001b[39;00m \u001b[38;5;21;01mmatplotlib\u001b[39;00m \u001b[38;5;28;01mas\u001b[39;00m \u001b[38;5;21;01mmpl\u001b[39;00m\n",
      "File \u001b[0;32m~/anaconda3/envs/tf/lib/python3.11/site-packages/numpy/__init__.py:151\u001b[0m\n\u001b[1;32m    149\u001b[0m \u001b[38;5;28;01mfrom\u001b[39;00m \u001b[38;5;21;01m.\u001b[39;00m \u001b[38;5;28;01mimport\u001b[39;00m fft\n\u001b[1;32m    150\u001b[0m \u001b[38;5;28;01mfrom\u001b[39;00m \u001b[38;5;21;01m.\u001b[39;00m \u001b[38;5;28;01mimport\u001b[39;00m polynomial\n\u001b[0;32m--> 151\u001b[0m \u001b[38;5;28;01mfrom\u001b[39;00m \u001b[38;5;21;01m.\u001b[39;00m \u001b[38;5;28;01mimport\u001b[39;00m random\n\u001b[1;32m    152\u001b[0m \u001b[38;5;28;01mfrom\u001b[39;00m \u001b[38;5;21;01m.\u001b[39;00m \u001b[38;5;28;01mimport\u001b[39;00m ctypeslib\n\u001b[1;32m    153\u001b[0m \u001b[38;5;28;01mfrom\u001b[39;00m \u001b[38;5;21;01m.\u001b[39;00m \u001b[38;5;28;01mimport\u001b[39;00m ma\n",
      "File \u001b[0;32m~/anaconda3/envs/tf/lib/python3.11/site-packages/numpy/random/__init__.py:180\u001b[0m\n\u001b[1;32m    126\u001b[0m __all__ \u001b[38;5;241m=\u001b[39m [\n\u001b[1;32m    127\u001b[0m     \u001b[38;5;124m'\u001b[39m\u001b[38;5;124mbeta\u001b[39m\u001b[38;5;124m'\u001b[39m,\n\u001b[1;32m    128\u001b[0m     \u001b[38;5;124m'\u001b[39m\u001b[38;5;124mbinomial\u001b[39m\u001b[38;5;124m'\u001b[39m,\n\u001b[0;32m   (...)\u001b[0m\n\u001b[1;32m    176\u001b[0m     \u001b[38;5;124m'\u001b[39m\u001b[38;5;124mzipf\u001b[39m\u001b[38;5;124m'\u001b[39m,\n\u001b[1;32m    177\u001b[0m ]\n\u001b[1;32m    179\u001b[0m \u001b[38;5;66;03m# add these for module-freeze analysis (like PyInstaller)\u001b[39;00m\n\u001b[0;32m--> 180\u001b[0m \u001b[38;5;28;01mfrom\u001b[39;00m \u001b[38;5;21;01m.\u001b[39;00m \u001b[38;5;28;01mimport\u001b[39;00m _pickle\n\u001b[1;32m    181\u001b[0m \u001b[38;5;28;01mfrom\u001b[39;00m \u001b[38;5;21;01m.\u001b[39;00m \u001b[38;5;28;01mimport\u001b[39;00m _common\n\u001b[1;32m    182\u001b[0m \u001b[38;5;28;01mfrom\u001b[39;00m \u001b[38;5;21;01m.\u001b[39;00m \u001b[38;5;28;01mimport\u001b[39;00m _bounded_integers\n",
      "File \u001b[0;32m~/anaconda3/envs/tf/lib/python3.11/site-packages/numpy/random/_pickle.py:2\u001b[0m\n\u001b[1;32m      1\u001b[0m \u001b[38;5;28;01mfrom\u001b[39;00m \u001b[38;5;21;01m.\u001b[39;00m\u001b[38;5;21;01mmtrand\u001b[39;00m \u001b[38;5;28;01mimport\u001b[39;00m RandomState\n\u001b[0;32m----> 2\u001b[0m \u001b[38;5;28;01mfrom\u001b[39;00m \u001b[38;5;21;01m.\u001b[39;00m\u001b[38;5;21;01m_philox\u001b[39;00m \u001b[38;5;28;01mimport\u001b[39;00m Philox\n\u001b[1;32m      3\u001b[0m \u001b[38;5;28;01mfrom\u001b[39;00m \u001b[38;5;21;01m.\u001b[39;00m\u001b[38;5;21;01m_pcg64\u001b[39;00m \u001b[38;5;28;01mimport\u001b[39;00m PCG64, PCG64DXSM\n\u001b[1;32m      4\u001b[0m \u001b[38;5;28;01mfrom\u001b[39;00m \u001b[38;5;21;01m.\u001b[39;00m\u001b[38;5;21;01m_sfc64\u001b[39;00m \u001b[38;5;28;01mimport\u001b[39;00m SFC64\n",
      "File \u001b[0;32m<frozen importlib._bootstrap>:405\u001b[0m, in \u001b[0;36mparent\u001b[0;34m(self)\u001b[0m\n",
      "\u001b[0;31mKeyboardInterrupt\u001b[0m: "
     ]
    }
   ],
   "source": [
    "import time\n",
    "import numpy as np\n",
    "import pandas as pd\n",
    "import matplotlib as mpl\n",
    "import matplotlib.pyplot as plt\n",
    "import seaborn as sns\n",
    "\n",
    "import warnings\n",
    "warnings.filterwarnings(\"ignore\")"
   ]
  },
  {
   "cell_type": "markdown",
   "id": "d1c49fec-347a-440b-a318-32d8e19c6cd5",
   "metadata": {},
   "source": [
    "## 1. Read Data"
   ]
  },
  {
   "cell_type": "code",
   "execution_count": null,
   "id": "ee2090ad-f8cd-4bed-86aa-98fd842ae492",
   "metadata": {},
   "outputs": [],
   "source": [
    "paysim = pd.read_csv(\"PS_20174392719_1491204439457_log.csv\")"
   ]
  },
  {
   "cell_type": "code",
   "execution_count": null,
   "id": "3976b65f-6078-4cb1-996c-17be264661dd",
   "metadata": {},
   "outputs": [],
   "source": [
    "paysim.head()"
   ]
  },
  {
   "cell_type": "markdown",
   "id": "1e7f4131-1398-49a7-9968-7ad32cc20d6d",
   "metadata": {},
   "source": [
    "- step: maps a unit of time in the real world. In this case 1 step is 1 hour of time. Total steps 744 (30 days simulation).\n",
    "\n",
    "- type: CASH-IN, CASH-OUT, DEBIT, PAYMENT and TRANSFER.\n",
    "\n",
    "- amount: amount of the transaction in local currency.\n",
    "\n",
    "- nameOrig: customer who started the transaction\n",
    "\n",
    "- oldbalanceOrg: initial balance before the transaction\n",
    "\n",
    "- newbalanceOrig: new balance after the transaction.\n",
    "\n",
    "- nameDest: customer who is the recipient of the transaction\n",
    "\n",
    "- oldbalanceDest: initial balance recipient before the transaction. Note that there is not information for customers that start with M (Merchants).\n",
    "\n",
    "- newbalanceDest: new balance recipient after the transaction. Note that there is not information for customers that start with M (Merchants).\n",
    "\n",
    "- isFraud: This is the transactions made by the fraudulent agents inside the simulation. In this specific dataset the fraudulent behavior of the agents aims to profit by taking control or customers accounts and try to empty the funds by transferring to another account and then cashing out of the system.\n",
    "\n",
    "- isFlaggedFraud: The business model aims to control massive transfers from one account to another and flags illegal attempts. An illegal attempt in this dataset is an attempt to transfer more than 200.000 in a single transaction.\n",
    "\n"
   ]
  },
  {
   "cell_type": "markdown",
   "id": "bd85fba4-9c24-4942-9753-fe5f97ebcc7b",
   "metadata": {},
   "source": [
    "## 2. Exploratory Data Analysis"
   ]
  },
  {
   "cell_type": "code",
   "execution_count": null,
   "id": "650717c3-372e-4331-8fd4-ecf9879d8d43",
   "metadata": {},
   "outputs": [],
   "source": [
    "paysim.describe()"
   ]
  },
  {
   "cell_type": "markdown",
   "id": "0beea692-1d47-4d1f-9865-3be405baa6f8",
   "metadata": {},
   "source": [
    "Check for missing value."
   ]
  },
  {
   "cell_type": "code",
   "execution_count": null,
   "id": "36bb0619-829a-4538-bda6-c4b272104148",
   "metadata": {},
   "outputs": [],
   "source": [
    "paysim.isnull().sum()"
   ]
  },
  {
   "cell_type": "code",
   "execution_count": null,
   "id": "90e251ed-76bd-4628-abbe-d3a5be273688",
   "metadata": {},
   "outputs": [],
   "source": [
    "print('Number of unique values/Categories:')\n",
    "for col in paysim.columns:\n",
    "    print('- '+col+': ', paysim[col].nunique())"
   ]
  },
  {
   "cell_type": "code",
   "execution_count": null,
   "id": "80a3b726-537a-49de-91b0-5920553ddbc3",
   "metadata": {},
   "outputs": [],
   "source": [
    "sns.set_style('whitegrid')\n",
    "sns.set_context('notebook')\n",
    "plt.figure(figsize=(8, 4))\n",
    "paysim['isFraud_str'] = paysim['isFraud'].apply(str)\n",
    "counplot = sns.countplot(data=paysim, x='type', hue='isFraud_str',palette= \"pastel\")\n",
    "counplot.set_xlabel('Type ')\n",
    "counplot.set_ylabel(f'Count')\n",
    "counplot.set_yscale('log')\n",
    "plt.savefig('figures/payment_count.jpeg', dpi=300)\n",
    "plt.show()"
   ]
  },
  {
   "cell_type": "code",
   "execution_count": null,
   "id": "d375d673-f003-4cde-b968-79b4ed361b25",
   "metadata": {},
   "outputs": [],
   "source": [
    "fig, ax = plt.subplots(1, 2, figsize=(10, 5))\n",
    "palette = sns.color_palette(\"pastel\")\n",
    "paysim['amount+'] = paysim['amount'].apply(lambda x: x+10**-7)\n",
    "histplot = sns.histplot(ax=ax[0], data=paysim[paysim['isFraud']==False], x='amount+', hue='isFraud', \n",
    "                        kde=True, element='step', palette=\"Set2\", log_scale=True)\n",
    "histplot.set_ylabel('Number of Observations')\n",
    "histplot.set_xlabel(f'Amount')\n",
    "histplot1 = sns.histplot(ax=ax[1], data=paysim[paysim['isFraud']==True], x='amount+', hue='isFraud', \n",
    "                         kde=True, element='step', palette=\"Set1\", log_scale=True)\n",
    "histplot1.set_ylabel('Number of Observations')\n",
    "histplot1.set_xlabel(f'Amount')\n",
    "mean_value_f = paysim[paysim['isFraud']==False]['amount'].mean()\n",
    "mean_value_t = paysim[paysim['isFraud']==True]['amount'].mean()\n",
    "histplot.axvline(x=mean_value_f, color='k', linestyle='dashed')\n",
    "histplot1.axvline(x=mean_value_t, color='k', linestyle='dashed')\n",
    "print(f'Mean amount for regular transactions: ${mean_value_f:,.2f}')\n",
    "print(f'Mean amount for fraudulent transactions: ${mean_value_t:,.2f}')\n",
    "paysim.drop(columns = ['amount+', 'isFraud_str'], inplace=True)\n",
    "plt.savefig('figures/amount_hist.jpeg', dpi=300)\n",
    "plt.show()"
   ]
  },
  {
   "cell_type": "code",
   "execution_count": null,
   "id": "ed8d013e-517e-49fa-b0fd-c7bd2e2ea8a1",
   "metadata": {},
   "outputs": [],
   "source": [
    "paysim.corr(numeric_only=True).style.background_gradient(cmap=\"crest\")"
   ]
  },
  {
   "cell_type": "markdown",
   "id": "21454151-4946-4fba-b3f3-0fc88b075d7f",
   "metadata": {},
   "source": [
    "## 3. Data Preprocessing"
   ]
  },
  {
   "cell_type": "code",
   "execution_count": null,
   "id": "551d965f-63ff-4c7f-bdba-339edf02292a",
   "metadata": {},
   "outputs": [],
   "source": [
    "#type Orig ==first letter from nameOrig \n",
    "paysim['New_TypeOrig']= paysim['nameOrig'].apply(lambda x: x[0])\n",
    "    \n",
    "#type Dest ==first letter from nameDest\n",
    "paysim['New_TypeDest']= paysim['nameDest'].apply(lambda x: x[0])"
   ]
  },
  {
   "cell_type": "code",
   "execution_count": null,
   "id": "78f69930-b5c6-498d-b09f-e2395cbb1926",
   "metadata": {},
   "outputs": [],
   "source": [
    "paysim.drop(columns = ['nameOrig','nameDest'], inplace=True)"
   ]
  },
  {
   "cell_type": "code",
   "execution_count": null,
   "id": "7b981c44-d267-4260-9f76-b0cd00943cd9",
   "metadata": {},
   "outputs": [],
   "source": [
    "paysim['step'] = paysim['step'].apply(lambda x: x%24)"
   ]
  },
  {
   "cell_type": "markdown",
   "id": "a744fab7-be3d-434a-ad55-147d14af0ebc",
   "metadata": {},
   "source": [
    "### 3.1 Encoding"
   ]
  },
  {
   "cell_type": "code",
   "execution_count": null,
   "id": "138e0a71-bd89-456c-bbf4-76e68ab9b64b",
   "metadata": {},
   "outputs": [],
   "source": [
    "from sklearn.preprocessing import StandardScaler\n",
    "from sklearn.model_selection import train_test_split"
   ]
  },
  {
   "cell_type": "code",
   "execution_count": null,
   "id": "a17fcbdd-bad5-4766-9f3d-ec2a851d3100",
   "metadata": {},
   "outputs": [],
   "source": [
    "paysim_dummies = pd.get_dummies(paysim, columns=['type', 'New_TypeOrig', 'New_TypeDest', \n",
    "                                                 'newbalanceOrig', 'newbalanceDest'], \n",
    "                                drop_first=True, dtype=float)\n",
    "paysim_dummies.head()"
   ]
  },
  {
   "cell_type": "markdown",
   "id": "9eab2788-d772-4d71-bf97-030dd8b24cdf",
   "metadata": {},
   "source": [
    "### 3.2 Split training and validation set"
   ]
  },
  {
   "cell_type": "code",
   "execution_count": null,
   "id": "8fea6b32-01e8-426f-b7fc-f67ef2bb9d70",
   "metadata": {},
   "outputs": [],
   "source": [
    "y = paysim_dummies.isFraud\n",
    "X = paysim_dummies.drop(['isFraud', 'isFlaggedFraud'], axis=1)"
   ]
  },
  {
   "cell_type": "code",
   "execution_count": null,
   "id": "998d9438-3655-42a3-b544-00866e87b8c7",
   "metadata": {},
   "outputs": [],
   "source": [
    "X_train, X_test, y_train, y_test = train_test_split(X, y, test_size=0.25, train_size=0.75, random_state=42)"
   ]
  },
  {
   "cell_type": "code",
   "execution_count": null,
   "id": "e2f98799-35bf-47cd-99e1-a59fa5ab830f",
   "metadata": {},
   "outputs": [],
   "source": [
    "X_train.head()"
   ]
  },
  {
   "cell_type": "markdown",
   "id": "e2f12143-1405-4a09-9be5-4da1f6fc201b",
   "metadata": {},
   "source": [
    "### 3.3 Normalization"
   ]
  },
  {
   "cell_type": "code",
   "execution_count": null,
   "id": "019a8eda-79dc-49e0-84db-321028a248c8",
   "metadata": {},
   "outputs": [],
   "source": [
    "normalize_cols = [\"step\", \"amount\", \"oldbalanceOrg\", \"newbalanceOrig\", \"newbalanceDest\", \"oldbalanceDest\"]\n",
    "\n",
    "features_train = X_train[normalize_cols]\n",
    "features_test = X_test[normalize_cols]\n",
    "scaler = StandardScaler().fit(features_train.values)\n",
    "features_train = scaler.transform(features_train.values)\n",
    "features_test = scaler.transform(features_test.values)\n",
    "X_train[normalize_cols] = features_train\n",
    "X_test[normalize_cols] =features_test\n",
    "\n",
    "X_test.head()"
   ]
  },
  {
   "cell_type": "markdown",
   "id": "5ec08d78-4927-4d8c-9fad-1a8eca5ab708",
   "metadata": {},
   "source": [
    "## 4. Model Development"
   ]
  },
  {
   "cell_type": "code",
   "execution_count": null,
   "id": "c22966fc-5f75-4ac6-a865-a729e8db2e71",
   "metadata": {},
   "outputs": [],
   "source": [
    "from sklearn.ensemble import RandomForestClassifier\n",
    "from sklearn.model_selection import RandomizedSearchCV"
   ]
  },
  {
   "cell_type": "markdown",
   "id": "037decae-ddb8-4f64-a6ae-f5d8db6f4f29",
   "metadata": {},
   "source": [
    "### 4.1 Random Forest"
   ]
  },
  {
   "cell_type": "markdown",
   "id": "33e72a8e-73a5-46b6-b6f9-32b6851be6e7",
   "metadata": {},
   "source": [
    "#### 4.1.1 Model Development"
   ]
  },
  {
   "cell_type": "code",
   "execution_count": null,
   "id": "2d71625d-b75e-4cfc-ba53-470850fa16f8",
   "metadata": {},
   "outputs": [],
   "source": [
    "# Number of trees in random forest\n",
    "n_estimators = [int(x) for x in np.linspace(start = 10, stop = 20, num = 10)]\n",
    "# Number of features to consider at every split\n",
    "max_features = ['log2', 'sqrt']\n",
    "# Maximum number of levels in tree\n",
    "max_depth = [int(x) for x in np.linspace(10, 110, num = 11)]\n",
    "max_depth.append(None)\n",
    "# Minimum number of samples required to split a node\n",
    "min_samples_split = [2, 5, 10]\n",
    "# Minimum number of samples required at each leaf node\n",
    "min_samples_leaf = [1, 2, 4]\n",
    "# Method of selecting samples for training each tree\n",
    "bootstrap = [True, False]\n",
    "# Create the random grid\n",
    "random_grid = {'n_estimators': n_estimators,\n",
    "               'max_features': max_features,\n",
    "               'max_depth': max_depth,\n",
    "               'min_samples_split': min_samples_split,\n",
    "               'min_samples_leaf': min_samples_leaf,\n",
    "               'bootstrap': bootstrap}"
   ]
  },
  {
   "cell_type": "code",
   "execution_count": null,
   "id": "a6189c01-a36a-4bba-9ae4-2f6032defb03",
   "metadata": {},
   "outputs": [],
   "source": [
    "# First create the base model to tune\n",
    "rf = RandomForestClassifier(class_weight='balanced')\n",
    "# search across 100 different combinations, and use all available cores\n",
    "rf_random = RandomizedSearchCV(estimator = rf, param_distributions = random_grid, n_iter = 20, cv = 5, \n",
    "                               verbose=0, random_state=42, n_jobs = -1, scoring='roc_auc')"
   ]
  },
  {
   "cell_type": "markdown",
   "id": "5475ed1b-c073-4131-96ea-90fbc59cab35",
   "metadata": {},
   "source": [
    "#### 4.1.2 Model Training"
   ]
  },
  {
   "cell_type": "code",
   "execution_count": null,
   "id": "07727699-a37b-403a-abb6-0dd15b3b0491",
   "metadata": {},
   "outputs": [],
   "source": [
    "# Fit the random search model\n",
    "start_time = time.time()\n",
    "rf_random.fit(X_train, y_train)\n",
    "run_time = time.time()-start_time"
   ]
  },
  {
   "cell_type": "code",
   "execution_count": null,
   "id": "e62dcf63-73f2-4918-9186-c72ed77331f7",
   "metadata": {},
   "outputs": [],
   "source": [
    "print('Time required to train random forest model:  {:.2f} seconds', run_time)"
   ]
  },
  {
   "cell_type": "code",
   "execution_count": null,
   "id": "547db908-cf2c-40fc-8e1e-27e91c28e974",
   "metadata": {},
   "outputs": [],
   "source": [
    "best_rf = rf_random.best_estimator_\n",
    "rf_random.best_estimator_"
   ]
  },
  {
   "cell_type": "code",
   "execution_count": null,
   "id": "45196c55-4c3e-4062-86c0-fdf46830d02c",
   "metadata": {},
   "outputs": [],
   "source": [
    "# Generate predictions with the best model\n",
    "rf_pred = best_rf.predict(X_test)\n",
    "rf_prob = best_rf.predict_proba(X_test)"
   ]
  },
  {
   "cell_type": "markdown",
   "id": "88c8717f-51c9-4ae5-a540-1ad1d673513b",
   "metadata": {},
   "source": [
    "#### 4.1.3 Model Performance "
   ]
  },
  {
   "cell_type": "markdown",
   "id": "1230be72-f891-4661-8ba9-598f66044c36",
   "metadata": {},
   "source": [
    "!!!high cost associated with False Negative =>Recall\n",
    "\n",
    "Let's say a customer requires that our classifier correctly predict fraud 60% of the time, so as not to bother customers due to false positive results.\n",
    "\n",
    "How to solve this problem? => It is necessary to select a threshold that maximizes recall, provided that precision > 0.6.\n",
    "\n",
    "- F1 score The F1 score can be interpreted as a harmonic mean of the precision and recall, where an F1 score reaches its best value at 1 and worst score at 0. The relative contribution of precision and recall to the F1 score are equal.\n",
    "\n",
    "- PR curve The precision-recall curve shows the tradeoff between precision and recall for different thresholds. A high area under the curve represents both high recall and high precision, where high precision relates to a low false positive rate, and high recall relates to a low false negative rate.\n",
    "\n",
    "- Confusion Matrix A confusion matrix is a table or chart showing the accuracy of a classifier's predictions concerning two or more classes. The classifier predictions are on the x-axis and the result (accuracy) is on the y-axis. The cells of the table are filled with the number of classifier predictions. Correct predictions go diagonally from top left to bottom right."
   ]
  },
  {
   "cell_type": "code",
   "execution_count": null,
   "id": "116cec1e-c03a-450a-84e2-f9ccfc558dfb",
   "metadata": {},
   "outputs": [],
   "source": [
    "from sklearn.metrics import auc, ConfusionMatrixDisplay, confusion_matrix, roc_auc_score, precision_score, recall_score, accuracy_score, classification_report, precision_recall_curve"
   ]
  },
  {
   "cell_type": "code",
   "execution_count": null,
   "id": "9c281dc7-624b-467a-b6d1-cceedf716f3e",
   "metadata": {},
   "outputs": [],
   "source": [
    "fig, ax = plt.subplots(figsize=(4, 4))\n",
    "ax.matshow(cm, cmap=plt.cm.Blues, alpha=0.3)\n",
    "for i in range(cm.shape[0]):\n",
    "    for j in range(cm.shape[1]):\n",
    "        ax.text(x=j, y=i,s=cm[i, j], va='center', ha='center', size='xx-large')\n",
    " \n",
    "plt.xlabel('Predictions', fontsize=18)\n",
    "plt.ylabel('Actuals', fontsize=18)\n",
    "plt.title('Confusion Matrix', fontsize=18)\n",
    "plt.show()"
   ]
  },
  {
   "cell_type": "code",
   "execution_count": null,
   "id": "373acc80-dbb5-4947-9584-10c58cf573e3",
   "metadata": {},
   "outputs": [],
   "source": [
    "# calculate inputs for the PR curve\n",
    "precision, recall, thresholds = precision_recall_curve(y_test, rf_prob[:, 1])\n",
    "\n",
    "# plot PR curve\n",
    "plt.plot(recall, precision, marker='.', label='Random Forest')\n",
    "# axis labels\n",
    "plt.xlabel('Recall')\n",
    "plt.ylabel('Precision')\n",
    "# show the legend\n",
    "plt.legend()\n",
    "plt.show()\n",
    "\n",
    "# calculate and print PR AUC\n",
    "auc_pr = auc(recall, precision)\n",
    "print('AUC PR: %.3f' % auc_pr)"
   ]
  },
  {
   "cell_type": "code",
   "execution_count": null,
   "id": "1b2adf97-2243-4899-9589-6d6ef58d5ce2",
   "metadata": {},
   "outputs": [],
   "source": [
    "sorted_idx = best_rf.feature_importances_.argsort()\n",
    "plt.barh(X_train.columns[sorted_idx], best_rf['model'].feature_importances_[sorted_idx])\n",
    "plt.title(\"Random Forest with SMOTE\")\n",
    "plt.xlabel(\"Feature Importance\")\n",
    "plt.show()"
   ]
  },
  {
   "cell_type": "markdown",
   "id": "e740bb48-d86c-4a03-b241-43636b9b0da4",
   "metadata": {},
   "source": [
    "### SMOTE"
   ]
  },
  {
   "cell_type": "code",
   "execution_count": null,
   "id": "14d3f8a5-6401-4c17-bfb6-b090f1cb2ba5",
   "metadata": {},
   "outputs": [],
   "source": [
    "import imblearn\n",
    "from imblearn.over_sampling import SMOTE\n",
    "from imblearn.under_sampling import RandomUnderSampler\n",
    "from imblearn.pipeline import Pipeline"
   ]
  },
  {
   "cell_type": "code",
   "execution_count": null,
   "id": "7fe824ad-3a91-4c44-982a-782d268494be",
   "metadata": {},
   "outputs": [],
   "source": [
    "model = RandomForestClassifier(class_weight='balanced')\n",
    "over = SMOTE(sampling_strategy=0.3, k_neighbors=5)\n",
    "under = RandomUnderSampler(sampling_strategy=0.5)\n",
    "steps = [('over', over), ('under', under), ('model', model)]\n",
    "pipeline = Pipeline(steps=steps)"
   ]
  },
  {
   "cell_type": "code",
   "execution_count": null,
   "id": "046c255d-c93a-4201-9609-ff9066011629",
   "metadata": {},
   "outputs": [],
   "source": [
    "random_grid = {'model__n_estimators': n_estimators,\n",
    "               'model__max_features': max_features,\n",
    "               'model__max_depth': max_depth,\n",
    "               'model__min_samples_split': min_samples_split,\n",
    "               'model__min_samples_leaf': min_samples_leaf,\n",
    "               'model__bootstrap': bootstrap}"
   ]
  },
  {
   "cell_type": "code",
   "execution_count": null,
   "id": "c5aeecda-eca9-441a-a157-221668919e55",
   "metadata": {},
   "outputs": [],
   "source": [
    "rf_random = RandomizedSearchCV(pipeline, param_distributions = random_grid, n_iter = 20, cv = 5, \n",
    "                               verbose=0, random_state=42, n_jobs = -1, scoring='roc_auc')"
   ]
  },
  {
   "cell_type": "code",
   "execution_count": null,
   "id": "70891e90-05f0-4f1a-b99b-5a131ae3688f",
   "metadata": {},
   "outputs": [],
   "source": [
    "start_time = time.time()\n",
    "rf_random.fit(X_train, y_train)\n",
    "run_time = time.time() - start_time"
   ]
  },
  {
   "cell_type": "code",
   "execution_count": null,
   "id": "ae875fc2-9b89-47fb-95e0-0f15f860ec35",
   "metadata": {},
   "outputs": [],
   "source": [
    "print('Time required to train random forest with SMOTE technique: {:.2f} seconds', run_time)"
   ]
  },
  {
   "cell_type": "code",
   "execution_count": null,
   "id": "db152be1-e01c-4259-b84d-b31912ba12e5",
   "metadata": {},
   "outputs": [],
   "source": [
    "best_smote_rf = rf_random.best_estimator_\n",
    "rf_random.best_estimator_"
   ]
  },
  {
   "cell_type": "code",
   "execution_count": null,
   "id": "bda1a5db-6708-4e4b-a7c8-de37a70caa3b",
   "metadata": {},
   "outputs": [],
   "source": [
    "# Generate predictions with the best model\n",
    "smote_rf_pred = best_smote_rf.predict(X_test)\n",
    "smote_rf_prob = best_smote_rf.predict_proba(X_test)"
   ]
  },
  {
   "cell_type": "code",
   "execution_count": null,
   "id": "84f3d619-228f-4be8-b5ca-d4be8fb97deb",
   "metadata": {},
   "outputs": [],
   "source": [
    "fig, ax = plt.subplots(figsize=(4, 4))\n",
    "ax.matshow(cm, cmap=plt.cm.Blues, alpha=0.3)\n",
    "for i in range(cm.shape[0]):\n",
    "    for j in range(cm.shape[1]):\n",
    "        ax.text(x=j, y=i,s=cm[i, j], va='center', ha='center', size='xx-large')\n",
    " \n",
    "plt.xlabel('Predictions', fontsize=18)\n",
    "plt.ylabel('Actuals', fontsize=18)\n",
    "plt.title('Confusion Matrix', fontsize=18)\n",
    "plt.show()"
   ]
  },
  {
   "cell_type": "code",
   "execution_count": null,
   "id": "78c2f38a-18b0-4ef2-af12-8f9d108d2bed",
   "metadata": {},
   "outputs": [],
   "source": [
    "# calculate inputs for the PR curve\n",
    "precision, recall, thresholds = precision_recall_curve(y_test, smote_rf_prob[:, 1])\n",
    "\n",
    "# plot PR curve\n",
    "plt.plot(recall, precision, marker='.', label='SMOTE RF')\n",
    "# axis labels\n",
    "plt.xlabel('Recall')\n",
    "plt.ylabel('Precision')\n",
    "# show the legend\n",
    "plt.legend()\n",
    "plt.show()\n",
    "\n",
    "# calculate and print PR AUC\n",
    "auc_pr = auc(recall, precision)\n",
    "print('AUC PR: %.3f' % auc_pr)"
   ]
  },
  {
   "cell_type": "code",
   "execution_count": null,
   "id": "ae67bad7-3c31-4596-815a-d8aee1108406",
   "metadata": {},
   "outputs": [],
   "source": [
    "sorted_idx = best_smote_rf['model'].feature_importances_.argsort()\n",
    "plt.barh(X_train.columns[sorted_idx], best_smote_rf['model'].feature_importances_[sorted_idx])\n",
    "plt.title(\"Random Forest with SMOTE\")\n",
    "plt.xlabel(\"Feature Importance\")\n",
    "plt.show()"
   ]
  },
  {
   "cell_type": "markdown",
   "id": "23b4c808-9104-46ff-97c8-3e0a6ca44263",
   "metadata": {},
   "source": [
    "## 5. Discussion"
   ]
  },
  {
   "cell_type": "markdown",
   "id": "2a332d67-bbaa-46e9-88e9-50e4fbb70bff",
   "metadata": {},
   "source": []
  }
 ],
 "metadata": {
  "kernelspec": {
   "display_name": "tf",
   "language": "python",
   "name": "tf"
  },
  "language_info": {
   "codemirror_mode": {
    "name": "ipython",
    "version": 3
   },
   "file_extension": ".py",
   "mimetype": "text/x-python",
   "name": "python",
   "nbconvert_exporter": "python",
   "pygments_lexer": "ipython3",
   "version": "3.11.0"
  }
 },
 "nbformat": 4,
 "nbformat_minor": 5
}
