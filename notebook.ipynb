{
 "cells": [
  {
   "cell_type": "markdown",
   "id": "7cb10446-0954-45ff-a947-b0e41d9db346",
   "metadata": {},
   "source": [
    "## Fraud Detection"
   ]
  },
  {
   "cell_type": "markdown",
   "id": "8c7c8a20-5774-467f-83d6-26ea43cce2b8",
   "metadata": {},
   "source": [
    "This notebook presents an implementation of machine learning model for Fraud Detection on financial dataset. The main focus is to develop a robust model for anamoly detection with high efficency.\n",
    "\n",
    "We present a synthetic dataset generated using the simulator called PaySim as an approach to such a problem. PaySim uses aggregated data from the private dataset to generate a synthetic dataset that resembles the normal operation of transactions and injects malicious behaviour to later evaluate the performance of fraud detection methods."
   ]
  },
  {
   "cell_type": "markdown",
   "id": "e4e0105f-e222-408f-94d4-2d2f04d1432d",
   "metadata": {},
   "source": [
    "Content of the notebook:\n",
    "- 1. Read Data\n",
    "- 2. Exploratory Data Analysis\n",
    "- 3. Data Preprocessing\n",
    "- 4. Model Development\n",
    "  - 4.1 Decision Tree\n",
    "  - 4.2 Synthetic Minority Oversampling Technique (SMOTE)\n",
    "- 5. Results\n",
    "- 6. Discussion"
   ]
  },
  {
   "cell_type": "markdown",
   "id": "9afab258-c5ea-43fc-b7a4-78e66b92a5e3",
   "metadata": {},
   "source": [
    "Import the necessary libraries for data analysis and visualization."
   ]
  },
  {
   "cell_type": "code",
   "execution_count": 1,
   "id": "1fafa342-cc3d-4d1b-8a07-bacd35b88a01",
   "metadata": {},
   "outputs": [],
   "source": [
    "import time\n",
    "import numpy as np\n",
    "import pandas as pd\n",
    "import matplotlib.pyplot as plt\n",
    "\n",
    "import warnings\n",
    "warnings.filterwarnings(\"ignore\", category=DeprecationWarning)"
   ]
  },
  {
   "cell_type": "markdown",
   "id": "d1c49fec-347a-440b-a318-32d8e19c6cd5",
   "metadata": {},
   "source": [
    "## 1. Read Data"
   ]
  },
  {
   "cell_type": "code",
   "execution_count": 2,
   "id": "ee2090ad-f8cd-4bed-86aa-98fd842ae492",
   "metadata": {},
   "outputs": [],
   "source": [
    "paysim = pd.read_csv(\"PS_20174392719_1491204439457_log.csv\")"
   ]
  },
  {
   "cell_type": "code",
   "execution_count": 3,
   "id": "3976b65f-6078-4cb1-996c-17be264661dd",
   "metadata": {},
   "outputs": [
    {
     "data": {
      "text/html": [
       "<div>\n",
       "<style scoped>\n",
       "    .dataframe tbody tr th:only-of-type {\n",
       "        vertical-align: middle;\n",
       "    }\n",
       "\n",
       "    .dataframe tbody tr th {\n",
       "        vertical-align: top;\n",
       "    }\n",
       "\n",
       "    .dataframe thead th {\n",
       "        text-align: right;\n",
       "    }\n",
       "</style>\n",
       "<table border=\"1\" class=\"dataframe\">\n",
       "  <thead>\n",
       "    <tr style=\"text-align: right;\">\n",
       "      <th></th>\n",
       "      <th>step</th>\n",
       "      <th>type</th>\n",
       "      <th>amount</th>\n",
       "      <th>nameOrig</th>\n",
       "      <th>oldbalanceOrg</th>\n",
       "      <th>newbalanceOrig</th>\n",
       "      <th>nameDest</th>\n",
       "      <th>oldbalanceDest</th>\n",
       "      <th>newbalanceDest</th>\n",
       "      <th>isFraud</th>\n",
       "      <th>isFlaggedFraud</th>\n",
       "    </tr>\n",
       "  </thead>\n",
       "  <tbody>\n",
       "    <tr>\n",
       "      <th>0</th>\n",
       "      <td>1</td>\n",
       "      <td>PAYMENT</td>\n",
       "      <td>9839.64</td>\n",
       "      <td>C1231006815</td>\n",
       "      <td>170136.0</td>\n",
       "      <td>160296.36</td>\n",
       "      <td>M1979787155</td>\n",
       "      <td>0.0</td>\n",
       "      <td>0.0</td>\n",
       "      <td>0</td>\n",
       "      <td>0</td>\n",
       "    </tr>\n",
       "    <tr>\n",
       "      <th>1</th>\n",
       "      <td>1</td>\n",
       "      <td>PAYMENT</td>\n",
       "      <td>1864.28</td>\n",
       "      <td>C1666544295</td>\n",
       "      <td>21249.0</td>\n",
       "      <td>19384.72</td>\n",
       "      <td>M2044282225</td>\n",
       "      <td>0.0</td>\n",
       "      <td>0.0</td>\n",
       "      <td>0</td>\n",
       "      <td>0</td>\n",
       "    </tr>\n",
       "    <tr>\n",
       "      <th>2</th>\n",
       "      <td>1</td>\n",
       "      <td>TRANSFER</td>\n",
       "      <td>181.00</td>\n",
       "      <td>C1305486145</td>\n",
       "      <td>181.0</td>\n",
       "      <td>0.00</td>\n",
       "      <td>C553264065</td>\n",
       "      <td>0.0</td>\n",
       "      <td>0.0</td>\n",
       "      <td>1</td>\n",
       "      <td>0</td>\n",
       "    </tr>\n",
       "    <tr>\n",
       "      <th>3</th>\n",
       "      <td>1</td>\n",
       "      <td>CASH_OUT</td>\n",
       "      <td>181.00</td>\n",
       "      <td>C840083671</td>\n",
       "      <td>181.0</td>\n",
       "      <td>0.00</td>\n",
       "      <td>C38997010</td>\n",
       "      <td>21182.0</td>\n",
       "      <td>0.0</td>\n",
       "      <td>1</td>\n",
       "      <td>0</td>\n",
       "    </tr>\n",
       "    <tr>\n",
       "      <th>4</th>\n",
       "      <td>1</td>\n",
       "      <td>PAYMENT</td>\n",
       "      <td>11668.14</td>\n",
       "      <td>C2048537720</td>\n",
       "      <td>41554.0</td>\n",
       "      <td>29885.86</td>\n",
       "      <td>M1230701703</td>\n",
       "      <td>0.0</td>\n",
       "      <td>0.0</td>\n",
       "      <td>0</td>\n",
       "      <td>0</td>\n",
       "    </tr>\n",
       "  </tbody>\n",
       "</table>\n",
       "</div>"
      ],
      "text/plain": [
       "   step      type    amount     nameOrig  oldbalanceOrg  newbalanceOrig  \\\n",
       "0     1   PAYMENT   9839.64  C1231006815       170136.0       160296.36   \n",
       "1     1   PAYMENT   1864.28  C1666544295        21249.0        19384.72   \n",
       "2     1  TRANSFER    181.00  C1305486145          181.0            0.00   \n",
       "3     1  CASH_OUT    181.00   C840083671          181.0            0.00   \n",
       "4     1   PAYMENT  11668.14  C2048537720        41554.0        29885.86   \n",
       "\n",
       "      nameDest  oldbalanceDest  newbalanceDest  isFraud  isFlaggedFraud  \n",
       "0  M1979787155             0.0             0.0        0               0  \n",
       "1  M2044282225             0.0             0.0        0               0  \n",
       "2   C553264065             0.0             0.0        1               0  \n",
       "3    C38997010         21182.0             0.0        1               0  \n",
       "4  M1230701703             0.0             0.0        0               0  "
      ]
     },
     "execution_count": 3,
     "metadata": {},
     "output_type": "execute_result"
    }
   ],
   "source": [
    "paysim.head()"
   ]
  },
  {
   "cell_type": "markdown",
   "id": "1e7f4131-1398-49a7-9968-7ad32cc20d6d",
   "metadata": {},
   "source": [
    "- step: maps a unit of time in the real world. In this case 1 step is 1 hour of time. Total steps 744 (30 days simulation).\n",
    "\n",
    "- type: CASH-IN, CASH-OUT, DEBIT, PAYMENT and TRANSFER.\n",
    "\n",
    "- amount: amount of the transaction in local currency.\n",
    "\n",
    "- nameOrig: customer who started the transaction\n",
    "\n",
    "- oldbalanceOrg: initial balance before the transaction\n",
    "\n",
    "- newbalanceOrig: new balance after the transaction.\n",
    "\n",
    "- nameDest: customer who is the recipient of the transaction\n",
    "\n",
    "- oldbalanceDest: initial balance recipient before the transaction. Note that there is not information for customers that start with M (Merchants).\n",
    "\n",
    "- newbalanceDest: new balance recipient after the transaction. Note that there is not information for customers that start with M (Merchants).\n",
    "\n",
    "- isFraud: This is the transactions made by the fraudulent agents inside the simulation. In this specific dataset the fraudulent behavior of the agents aims to profit by taking control or customers accounts and try to empty the funds by transferring to another account and then cashing out of the system.\n",
    "\n",
    "- isFlaggedFraud: The business model aims to control massive transfers from one account to another and flags illegal attempts. An illegal attempt in this dataset is an attempt to transfer more than 200.000 in a single transaction.\n",
    "\n"
   ]
  },
  {
   "cell_type": "markdown",
   "id": "bd85fba4-9c24-4942-9753-fe5f97ebcc7b",
   "metadata": {},
   "source": [
    "## 2. Exploratory Data Analysis"
   ]
  },
  {
   "cell_type": "code",
   "execution_count": 4,
   "id": "650717c3-372e-4331-8fd4-ecf9879d8d43",
   "metadata": {},
   "outputs": [
    {
     "data": {
      "text/html": [
       "<div>\n",
       "<style scoped>\n",
       "    .dataframe tbody tr th:only-of-type {\n",
       "        vertical-align: middle;\n",
       "    }\n",
       "\n",
       "    .dataframe tbody tr th {\n",
       "        vertical-align: top;\n",
       "    }\n",
       "\n",
       "    .dataframe thead th {\n",
       "        text-align: right;\n",
       "    }\n",
       "</style>\n",
       "<table border=\"1\" class=\"dataframe\">\n",
       "  <thead>\n",
       "    <tr style=\"text-align: right;\">\n",
       "      <th></th>\n",
       "      <th>step</th>\n",
       "      <th>amount</th>\n",
       "      <th>oldbalanceOrg</th>\n",
       "      <th>newbalanceOrig</th>\n",
       "      <th>oldbalanceDest</th>\n",
       "      <th>newbalanceDest</th>\n",
       "      <th>isFraud</th>\n",
       "      <th>isFlaggedFraud</th>\n",
       "    </tr>\n",
       "  </thead>\n",
       "  <tbody>\n",
       "    <tr>\n",
       "      <th>count</th>\n",
       "      <td>6.362620e+06</td>\n",
       "      <td>6.362620e+06</td>\n",
       "      <td>6.362620e+06</td>\n",
       "      <td>6.362620e+06</td>\n",
       "      <td>6.362620e+06</td>\n",
       "      <td>6.362620e+06</td>\n",
       "      <td>6.362620e+06</td>\n",
       "      <td>6.362620e+06</td>\n",
       "    </tr>\n",
       "    <tr>\n",
       "      <th>mean</th>\n",
       "      <td>2.433972e+02</td>\n",
       "      <td>1.798619e+05</td>\n",
       "      <td>8.338831e+05</td>\n",
       "      <td>8.551137e+05</td>\n",
       "      <td>1.100702e+06</td>\n",
       "      <td>1.224996e+06</td>\n",
       "      <td>1.290820e-03</td>\n",
       "      <td>2.514687e-06</td>\n",
       "    </tr>\n",
       "    <tr>\n",
       "      <th>std</th>\n",
       "      <td>1.423320e+02</td>\n",
       "      <td>6.038582e+05</td>\n",
       "      <td>2.888243e+06</td>\n",
       "      <td>2.924049e+06</td>\n",
       "      <td>3.399180e+06</td>\n",
       "      <td>3.674129e+06</td>\n",
       "      <td>3.590480e-02</td>\n",
       "      <td>1.585775e-03</td>\n",
       "    </tr>\n",
       "    <tr>\n",
       "      <th>min</th>\n",
       "      <td>1.000000e+00</td>\n",
       "      <td>0.000000e+00</td>\n",
       "      <td>0.000000e+00</td>\n",
       "      <td>0.000000e+00</td>\n",
       "      <td>0.000000e+00</td>\n",
       "      <td>0.000000e+00</td>\n",
       "      <td>0.000000e+00</td>\n",
       "      <td>0.000000e+00</td>\n",
       "    </tr>\n",
       "    <tr>\n",
       "      <th>25%</th>\n",
       "      <td>1.560000e+02</td>\n",
       "      <td>1.338957e+04</td>\n",
       "      <td>0.000000e+00</td>\n",
       "      <td>0.000000e+00</td>\n",
       "      <td>0.000000e+00</td>\n",
       "      <td>0.000000e+00</td>\n",
       "      <td>0.000000e+00</td>\n",
       "      <td>0.000000e+00</td>\n",
       "    </tr>\n",
       "    <tr>\n",
       "      <th>50%</th>\n",
       "      <td>2.390000e+02</td>\n",
       "      <td>7.487194e+04</td>\n",
       "      <td>1.420800e+04</td>\n",
       "      <td>0.000000e+00</td>\n",
       "      <td>1.327057e+05</td>\n",
       "      <td>2.146614e+05</td>\n",
       "      <td>0.000000e+00</td>\n",
       "      <td>0.000000e+00</td>\n",
       "    </tr>\n",
       "    <tr>\n",
       "      <th>75%</th>\n",
       "      <td>3.350000e+02</td>\n",
       "      <td>2.087215e+05</td>\n",
       "      <td>1.073152e+05</td>\n",
       "      <td>1.442584e+05</td>\n",
       "      <td>9.430367e+05</td>\n",
       "      <td>1.111909e+06</td>\n",
       "      <td>0.000000e+00</td>\n",
       "      <td>0.000000e+00</td>\n",
       "    </tr>\n",
       "    <tr>\n",
       "      <th>max</th>\n",
       "      <td>7.430000e+02</td>\n",
       "      <td>9.244552e+07</td>\n",
       "      <td>5.958504e+07</td>\n",
       "      <td>4.958504e+07</td>\n",
       "      <td>3.560159e+08</td>\n",
       "      <td>3.561793e+08</td>\n",
       "      <td>1.000000e+00</td>\n",
       "      <td>1.000000e+00</td>\n",
       "    </tr>\n",
       "  </tbody>\n",
       "</table>\n",
       "</div>"
      ],
      "text/plain": [
       "               step        amount  oldbalanceOrg  newbalanceOrig  \\\n",
       "count  6.362620e+06  6.362620e+06   6.362620e+06    6.362620e+06   \n",
       "mean   2.433972e+02  1.798619e+05   8.338831e+05    8.551137e+05   \n",
       "std    1.423320e+02  6.038582e+05   2.888243e+06    2.924049e+06   \n",
       "min    1.000000e+00  0.000000e+00   0.000000e+00    0.000000e+00   \n",
       "25%    1.560000e+02  1.338957e+04   0.000000e+00    0.000000e+00   \n",
       "50%    2.390000e+02  7.487194e+04   1.420800e+04    0.000000e+00   \n",
       "75%    3.350000e+02  2.087215e+05   1.073152e+05    1.442584e+05   \n",
       "max    7.430000e+02  9.244552e+07   5.958504e+07    4.958504e+07   \n",
       "\n",
       "       oldbalanceDest  newbalanceDest       isFraud  isFlaggedFraud  \n",
       "count    6.362620e+06    6.362620e+06  6.362620e+06    6.362620e+06  \n",
       "mean     1.100702e+06    1.224996e+06  1.290820e-03    2.514687e-06  \n",
       "std      3.399180e+06    3.674129e+06  3.590480e-02    1.585775e-03  \n",
       "min      0.000000e+00    0.000000e+00  0.000000e+00    0.000000e+00  \n",
       "25%      0.000000e+00    0.000000e+00  0.000000e+00    0.000000e+00  \n",
       "50%      1.327057e+05    2.146614e+05  0.000000e+00    0.000000e+00  \n",
       "75%      9.430367e+05    1.111909e+06  0.000000e+00    0.000000e+00  \n",
       "max      3.560159e+08    3.561793e+08  1.000000e+00    1.000000e+00  "
      ]
     },
     "execution_count": 4,
     "metadata": {},
     "output_type": "execute_result"
    }
   ],
   "source": [
    "paysim.describe()"
   ]
  },
  {
   "cell_type": "markdown",
   "id": "0beea692-1d47-4d1f-9865-3be405baa6f8",
   "metadata": {},
   "source": [
    "Check for missing value."
   ]
  },
  {
   "cell_type": "code",
   "execution_count": 5,
   "id": "36bb0619-829a-4538-bda6-c4b272104148",
   "metadata": {},
   "outputs": [
    {
     "data": {
      "text/plain": [
       "step              0\n",
       "type              0\n",
       "amount            0\n",
       "nameOrig          0\n",
       "oldbalanceOrg     0\n",
       "newbalanceOrig    0\n",
       "nameDest          0\n",
       "oldbalanceDest    0\n",
       "newbalanceDest    0\n",
       "isFraud           0\n",
       "isFlaggedFraud    0\n",
       "dtype: int64"
      ]
     },
     "execution_count": 5,
     "metadata": {},
     "output_type": "execute_result"
    }
   ],
   "source": [
    "paysim.isnull().sum()"
   ]
  },
  {
   "cell_type": "code",
   "execution_count": 6,
   "id": "90e251ed-76bd-4628-abbe-d3a5be273688",
   "metadata": {},
   "outputs": [
    {
     "name": "stdout",
     "output_type": "stream",
     "text": [
      "Number of unique values/Categories:\n",
      "- step:  743\n",
      "- type:  5\n",
      "- amount:  5316900\n",
      "- nameOrig:  6353307\n",
      "- oldbalanceOrg:  1845844\n",
      "- newbalanceOrig:  2682586\n",
      "- nameDest:  2722362\n",
      "- oldbalanceDest:  3614697\n",
      "- newbalanceDest:  3555499\n",
      "- isFraud:  2\n",
      "- isFlaggedFraud:  2\n"
     ]
    }
   ],
   "source": [
    "print('Number of unique values/Categories:')\n",
    "for col in paysim.columns:\n",
    "    print('- '+col+': ', paysim[col].nunique())"
   ]
  },
  {
   "cell_type": "code",
   "execution_count": 7,
   "id": "ed8d013e-517e-49fa-b0fd-c7bd2e2ea8a1",
   "metadata": {},
   "outputs": [
    {
     "data": {
      "text/html": [
       "<style type=\"text/css\">\n",
       "#T_066f6_row0_col0, #T_066f6_row1_col1, #T_066f6_row2_col2, #T_066f6_row2_col3, #T_066f6_row3_col2, #T_066f6_row3_col3, #T_066f6_row4_col4, #T_066f6_row5_col5, #T_066f6_row6_col6, #T_066f6_row7_col7 {\n",
       "  background-color: #023858;\n",
       "  color: #f1f1f1;\n",
       "}\n",
       "#T_066f6_row0_col1 {\n",
       "  background-color: #fbf3f9;\n",
       "  color: #000000;\n",
       "}\n",
       "#T_066f6_row0_col2, #T_066f6_row0_col3, #T_066f6_row0_col7, #T_066f6_row1_col3, #T_066f6_row2_col0, #T_066f6_row3_col0, #T_066f6_row3_col1, #T_066f6_row3_col6, #T_066f6_row4_col6, #T_066f6_row4_col7, #T_066f6_row5_col7, #T_066f6_row6_col3, #T_066f6_row6_col4, #T_066f6_row6_col5, #T_066f6_row7_col5 {\n",
       "  background-color: #fff7fb;\n",
       "  color: #000000;\n",
       "}\n",
       "#T_066f6_row0_col4, #T_066f6_row1_col0 {\n",
       "  background-color: #faf3f9;\n",
       "  color: #000000;\n",
       "}\n",
       "#T_066f6_row0_col5 {\n",
       "  background-color: #fbf4f9;\n",
       "  color: #000000;\n",
       "}\n",
       "#T_066f6_row0_col6, #T_066f6_row2_col5, #T_066f6_row3_col5, #T_066f6_row6_col0 {\n",
       "  background-color: #f9f2f8;\n",
       "  color: #000000;\n",
       "}\n",
       "#T_066f6_row1_col2, #T_066f6_row2_col1, #T_066f6_row2_col7, #T_066f6_row3_col7, #T_066f6_row7_col4 {\n",
       "  background-color: #fef6fb;\n",
       "  color: #000000;\n",
       "}\n",
       "#T_066f6_row1_col4, #T_066f6_row4_col1 {\n",
       "  background-color: #c0c9e2;\n",
       "  color: #000000;\n",
       "}\n",
       "#T_066f6_row1_col5 {\n",
       "  background-color: #84b0d3;\n",
       "  color: #f1f1f1;\n",
       "}\n",
       "#T_066f6_row1_col6, #T_066f6_row6_col1 {\n",
       "  background-color: #f2ecf5;\n",
       "  color: #000000;\n",
       "}\n",
       "#T_066f6_row1_col7, #T_066f6_row2_col6, #T_066f6_row7_col0, #T_066f6_row7_col2, #T_066f6_row7_col3 {\n",
       "  background-color: #fdf5fa;\n",
       "  color: #000000;\n",
       "}\n",
       "#T_066f6_row2_col4, #T_066f6_row3_col4 {\n",
       "  background-color: #f4eef6;\n",
       "  color: #000000;\n",
       "}\n",
       "#T_066f6_row4_col0, #T_066f6_row5_col0 {\n",
       "  background-color: #faf2f8;\n",
       "  color: #000000;\n",
       "}\n",
       "#T_066f6_row4_col2, #T_066f6_row4_col3 {\n",
       "  background-color: #f4edf6;\n",
       "  color: #000000;\n",
       "}\n",
       "#T_066f6_row4_col5, #T_066f6_row5_col4 {\n",
       "  background-color: #023d60;\n",
       "  color: #f1f1f1;\n",
       "}\n",
       "#T_066f6_row5_col1 {\n",
       "  background-color: #83afd3;\n",
       "  color: #f1f1f1;\n",
       "}\n",
       "#T_066f6_row5_col2, #T_066f6_row5_col3, #T_066f6_row7_col6 {\n",
       "  background-color: #f7f0f7;\n",
       "  color: #000000;\n",
       "}\n",
       "#T_066f6_row5_col6 {\n",
       "  background-color: #fef6fa;\n",
       "  color: #000000;\n",
       "}\n",
       "#T_066f6_row6_col2, #T_066f6_row7_col1 {\n",
       "  background-color: #fcf4fa;\n",
       "  color: #000000;\n",
       "}\n",
       "#T_066f6_row6_col7 {\n",
       "  background-color: #f8f1f8;\n",
       "  color: #000000;\n",
       "}\n",
       "</style>\n",
       "<table id=\"T_066f6\">\n",
       "  <thead>\n",
       "    <tr>\n",
       "      <th class=\"blank level0\" >&nbsp;</th>\n",
       "      <th id=\"T_066f6_level0_col0\" class=\"col_heading level0 col0\" >step</th>\n",
       "      <th id=\"T_066f6_level0_col1\" class=\"col_heading level0 col1\" >amount</th>\n",
       "      <th id=\"T_066f6_level0_col2\" class=\"col_heading level0 col2\" >oldbalanceOrg</th>\n",
       "      <th id=\"T_066f6_level0_col3\" class=\"col_heading level0 col3\" >newbalanceOrig</th>\n",
       "      <th id=\"T_066f6_level0_col4\" class=\"col_heading level0 col4\" >oldbalanceDest</th>\n",
       "      <th id=\"T_066f6_level0_col5\" class=\"col_heading level0 col5\" >newbalanceDest</th>\n",
       "      <th id=\"T_066f6_level0_col6\" class=\"col_heading level0 col6\" >isFraud</th>\n",
       "      <th id=\"T_066f6_level0_col7\" class=\"col_heading level0 col7\" >isFlaggedFraud</th>\n",
       "    </tr>\n",
       "  </thead>\n",
       "  <tbody>\n",
       "    <tr>\n",
       "      <th id=\"T_066f6_level0_row0\" class=\"row_heading level0 row0\" >step</th>\n",
       "      <td id=\"T_066f6_row0_col0\" class=\"data row0 col0\" >1.000000</td>\n",
       "      <td id=\"T_066f6_row0_col1\" class=\"data row0 col1\" >0.022373</td>\n",
       "      <td id=\"T_066f6_row0_col2\" class=\"data row0 col2\" >-0.010058</td>\n",
       "      <td id=\"T_066f6_row0_col3\" class=\"data row0 col3\" >-0.010299</td>\n",
       "      <td id=\"T_066f6_row0_col4\" class=\"data row0 col4\" >0.027665</td>\n",
       "      <td id=\"T_066f6_row0_col5\" class=\"data row0 col5\" >0.025888</td>\n",
       "      <td id=\"T_066f6_row0_col6\" class=\"data row0 col6\" >0.031578</td>\n",
       "      <td id=\"T_066f6_row0_col7\" class=\"data row0 col7\" >0.003277</td>\n",
       "    </tr>\n",
       "    <tr>\n",
       "      <th id=\"T_066f6_level0_row1\" class=\"row_heading level0 row1\" >amount</th>\n",
       "      <td id=\"T_066f6_row1_col0\" class=\"data row1 col0\" >0.022373</td>\n",
       "      <td id=\"T_066f6_row1_col1\" class=\"data row1 col1\" >1.000000</td>\n",
       "      <td id=\"T_066f6_row1_col2\" class=\"data row1 col2\" >-0.002762</td>\n",
       "      <td id=\"T_066f6_row1_col3\" class=\"data row1 col3\" >-0.007861</td>\n",
       "      <td id=\"T_066f6_row1_col4\" class=\"data row1 col4\" >0.294137</td>\n",
       "      <td id=\"T_066f6_row1_col5\" class=\"data row1 col5\" >0.459304</td>\n",
       "      <td id=\"T_066f6_row1_col6\" class=\"data row1 col6\" >0.076688</td>\n",
       "      <td id=\"T_066f6_row1_col7\" class=\"data row1 col7\" >0.012295</td>\n",
       "    </tr>\n",
       "    <tr>\n",
       "      <th id=\"T_066f6_level0_row2\" class=\"row_heading level0 row2\" >oldbalanceOrg</th>\n",
       "      <td id=\"T_066f6_row2_col0\" class=\"data row2 col0\" >-0.010058</td>\n",
       "      <td id=\"T_066f6_row2_col1\" class=\"data row2 col1\" >-0.002762</td>\n",
       "      <td id=\"T_066f6_row2_col2\" class=\"data row2 col2\" >1.000000</td>\n",
       "      <td id=\"T_066f6_row2_col3\" class=\"data row2 col3\" >0.998803</td>\n",
       "      <td id=\"T_066f6_row2_col4\" class=\"data row2 col4\" >0.066243</td>\n",
       "      <td id=\"T_066f6_row2_col5\" class=\"data row2 col5\" >0.042029</td>\n",
       "      <td id=\"T_066f6_row2_col6\" class=\"data row2 col6\" >0.010154</td>\n",
       "      <td id=\"T_066f6_row2_col7\" class=\"data row2 col7\" >0.003835</td>\n",
       "    </tr>\n",
       "    <tr>\n",
       "      <th id=\"T_066f6_level0_row3\" class=\"row_heading level0 row3\" >newbalanceOrig</th>\n",
       "      <td id=\"T_066f6_row3_col0\" class=\"data row3 col0\" >-0.010299</td>\n",
       "      <td id=\"T_066f6_row3_col1\" class=\"data row3 col1\" >-0.007861</td>\n",
       "      <td id=\"T_066f6_row3_col2\" class=\"data row3 col2\" >0.998803</td>\n",
       "      <td id=\"T_066f6_row3_col3\" class=\"data row3 col3\" >1.000000</td>\n",
       "      <td id=\"T_066f6_row3_col4\" class=\"data row3 col4\" >0.067812</td>\n",
       "      <td id=\"T_066f6_row3_col5\" class=\"data row3 col5\" >0.041837</td>\n",
       "      <td id=\"T_066f6_row3_col6\" class=\"data row3 col6\" >-0.008148</td>\n",
       "      <td id=\"T_066f6_row3_col7\" class=\"data row3 col7\" >0.003776</td>\n",
       "    </tr>\n",
       "    <tr>\n",
       "      <th id=\"T_066f6_level0_row4\" class=\"row_heading level0 row4\" >oldbalanceDest</th>\n",
       "      <td id=\"T_066f6_row4_col0\" class=\"data row4 col0\" >0.027665</td>\n",
       "      <td id=\"T_066f6_row4_col1\" class=\"data row4 col1\" >0.294137</td>\n",
       "      <td id=\"T_066f6_row4_col2\" class=\"data row4 col2\" >0.066243</td>\n",
       "      <td id=\"T_066f6_row4_col3\" class=\"data row4 col3\" >0.067812</td>\n",
       "      <td id=\"T_066f6_row4_col4\" class=\"data row4 col4\" >1.000000</td>\n",
       "      <td id=\"T_066f6_row4_col5\" class=\"data row4 col5\" >0.976569</td>\n",
       "      <td id=\"T_066f6_row4_col6\" class=\"data row4 col6\" >-0.005885</td>\n",
       "      <td id=\"T_066f6_row4_col7\" class=\"data row4 col7\" >-0.000513</td>\n",
       "    </tr>\n",
       "    <tr>\n",
       "      <th id=\"T_066f6_level0_row5\" class=\"row_heading level0 row5\" >newbalanceDest</th>\n",
       "      <td id=\"T_066f6_row5_col0\" class=\"data row5 col0\" >0.025888</td>\n",
       "      <td id=\"T_066f6_row5_col1\" class=\"data row5 col1\" >0.459304</td>\n",
       "      <td id=\"T_066f6_row5_col2\" class=\"data row5 col2\" >0.042029</td>\n",
       "      <td id=\"T_066f6_row5_col3\" class=\"data row5 col3\" >0.041837</td>\n",
       "      <td id=\"T_066f6_row5_col4\" class=\"data row5 col4\" >0.976569</td>\n",
       "      <td id=\"T_066f6_row5_col5\" class=\"data row5 col5\" >1.000000</td>\n",
       "      <td id=\"T_066f6_row5_col6\" class=\"data row5 col6\" >0.000535</td>\n",
       "      <td id=\"T_066f6_row5_col7\" class=\"data row5 col7\" >-0.000529</td>\n",
       "    </tr>\n",
       "    <tr>\n",
       "      <th id=\"T_066f6_level0_row6\" class=\"row_heading level0 row6\" >isFraud</th>\n",
       "      <td id=\"T_066f6_row6_col0\" class=\"data row6 col0\" >0.031578</td>\n",
       "      <td id=\"T_066f6_row6_col1\" class=\"data row6 col1\" >0.076688</td>\n",
       "      <td id=\"T_066f6_row6_col2\" class=\"data row6 col2\" >0.010154</td>\n",
       "      <td id=\"T_066f6_row6_col3\" class=\"data row6 col3\" >-0.008148</td>\n",
       "      <td id=\"T_066f6_row6_col4\" class=\"data row6 col4\" >-0.005885</td>\n",
       "      <td id=\"T_066f6_row6_col5\" class=\"data row6 col5\" >0.000535</td>\n",
       "      <td id=\"T_066f6_row6_col6\" class=\"data row6 col6\" >1.000000</td>\n",
       "      <td id=\"T_066f6_row6_col7\" class=\"data row6 col7\" >0.044109</td>\n",
       "    </tr>\n",
       "    <tr>\n",
       "      <th id=\"T_066f6_level0_row7\" class=\"row_heading level0 row7\" >isFlaggedFraud</th>\n",
       "      <td id=\"T_066f6_row7_col0\" class=\"data row7 col0\" >0.003277</td>\n",
       "      <td id=\"T_066f6_row7_col1\" class=\"data row7 col1\" >0.012295</td>\n",
       "      <td id=\"T_066f6_row7_col2\" class=\"data row7 col2\" >0.003835</td>\n",
       "      <td id=\"T_066f6_row7_col3\" class=\"data row7 col3\" >0.003776</td>\n",
       "      <td id=\"T_066f6_row7_col4\" class=\"data row7 col4\" >-0.000513</td>\n",
       "      <td id=\"T_066f6_row7_col5\" class=\"data row7 col5\" >-0.000529</td>\n",
       "      <td id=\"T_066f6_row7_col6\" class=\"data row7 col6\" >0.044109</td>\n",
       "      <td id=\"T_066f6_row7_col7\" class=\"data row7 col7\" >1.000000</td>\n",
       "    </tr>\n",
       "  </tbody>\n",
       "</table>\n"
      ],
      "text/plain": [
       "<pandas.io.formats.style.Styler at 0x11f049ed0>"
      ]
     },
     "execution_count": 7,
     "metadata": {},
     "output_type": "execute_result"
    }
   ],
   "source": [
    "paysim.corr(numeric_only=True).style.background_gradient()"
   ]
  },
  {
   "cell_type": "markdown",
   "id": "21454151-4946-4fba-b3f3-0fc88b075d7f",
   "metadata": {},
   "source": [
    "## 3. Data Preprocessing"
   ]
  },
  {
   "cell_type": "markdown",
   "id": "5e9b7647-e3d4-4ef9-8407-e7cd572ad49b",
   "metadata": {},
   "source": []
  },
  {
   "cell_type": "code",
   "execution_count": 8,
   "id": "2de59ebe-4f2a-4f78-9d9b-061b6f013fe4",
   "metadata": {},
   "outputs": [],
   "source": [
    "#type Orig ==first letter from nameOrig \n",
    "paysim['New_TypeOrig']= paysim['nameOrig'].apply(lambda x: x[0])\n",
    "    \n",
    "#type Dest ==first letter from nameDest\n",
    "paysim['New_TypeDest']= paysim['nameDest'].apply(lambda x: x[0])"
   ]
  },
  {
   "cell_type": "code",
   "execution_count": 9,
   "id": "60c4daea-2844-4bd8-800c-04ccf1716948",
   "metadata": {},
   "outputs": [],
   "source": [
    "paysim.drop(columns = ['step', 'nameOrig','nameDest'], inplace=True)"
   ]
  },
  {
   "cell_type": "markdown",
   "id": "a744fab7-be3d-434a-ad55-147d14af0ebc",
   "metadata": {},
   "source": [
    "### 3.1 Encoding"
   ]
  },
  {
   "cell_type": "code",
   "execution_count": 10,
   "id": "138e0a71-bd89-456c-bbf4-76e68ab9b64b",
   "metadata": {},
   "outputs": [],
   "source": [
    "from sklearn.preprocessing import StandardScaler\n",
    "from sklearn.model_selection import train_test_split"
   ]
  },
  {
   "cell_type": "code",
   "execution_count": 11,
   "id": "a17fcbdd-bad5-4766-9f3d-ec2a851d3100",
   "metadata": {},
   "outputs": [
    {
     "data": {
      "text/html": [
       "<div>\n",
       "<style scoped>\n",
       "    .dataframe tbody tr th:only-of-type {\n",
       "        vertical-align: middle;\n",
       "    }\n",
       "\n",
       "    .dataframe tbody tr th {\n",
       "        vertical-align: top;\n",
       "    }\n",
       "\n",
       "    .dataframe thead th {\n",
       "        text-align: right;\n",
       "    }\n",
       "</style>\n",
       "<table border=\"1\" class=\"dataframe\">\n",
       "  <thead>\n",
       "    <tr style=\"text-align: right;\">\n",
       "      <th></th>\n",
       "      <th>amount</th>\n",
       "      <th>oldbalanceOrg</th>\n",
       "      <th>newbalanceOrig</th>\n",
       "      <th>oldbalanceDest</th>\n",
       "      <th>newbalanceDest</th>\n",
       "      <th>isFraud</th>\n",
       "      <th>isFlaggedFraud</th>\n",
       "      <th>type_CASH_OUT</th>\n",
       "      <th>type_DEBIT</th>\n",
       "      <th>type_PAYMENT</th>\n",
       "      <th>type_TRANSFER</th>\n",
       "      <th>New_TypeDest_M</th>\n",
       "    </tr>\n",
       "  </thead>\n",
       "  <tbody>\n",
       "    <tr>\n",
       "      <th>0</th>\n",
       "      <td>9839.64</td>\n",
       "      <td>170136.0</td>\n",
       "      <td>160296.36</td>\n",
       "      <td>0.0</td>\n",
       "      <td>0.0</td>\n",
       "      <td>0</td>\n",
       "      <td>0</td>\n",
       "      <td>0.0</td>\n",
       "      <td>0.0</td>\n",
       "      <td>1.0</td>\n",
       "      <td>0.0</td>\n",
       "      <td>1.0</td>\n",
       "    </tr>\n",
       "    <tr>\n",
       "      <th>1</th>\n",
       "      <td>1864.28</td>\n",
       "      <td>21249.0</td>\n",
       "      <td>19384.72</td>\n",
       "      <td>0.0</td>\n",
       "      <td>0.0</td>\n",
       "      <td>0</td>\n",
       "      <td>0</td>\n",
       "      <td>0.0</td>\n",
       "      <td>0.0</td>\n",
       "      <td>1.0</td>\n",
       "      <td>0.0</td>\n",
       "      <td>1.0</td>\n",
       "    </tr>\n",
       "    <tr>\n",
       "      <th>2</th>\n",
       "      <td>181.00</td>\n",
       "      <td>181.0</td>\n",
       "      <td>0.00</td>\n",
       "      <td>0.0</td>\n",
       "      <td>0.0</td>\n",
       "      <td>1</td>\n",
       "      <td>0</td>\n",
       "      <td>0.0</td>\n",
       "      <td>0.0</td>\n",
       "      <td>0.0</td>\n",
       "      <td>1.0</td>\n",
       "      <td>0.0</td>\n",
       "    </tr>\n",
       "    <tr>\n",
       "      <th>3</th>\n",
       "      <td>181.00</td>\n",
       "      <td>181.0</td>\n",
       "      <td>0.00</td>\n",
       "      <td>21182.0</td>\n",
       "      <td>0.0</td>\n",
       "      <td>1</td>\n",
       "      <td>0</td>\n",
       "      <td>1.0</td>\n",
       "      <td>0.0</td>\n",
       "      <td>0.0</td>\n",
       "      <td>0.0</td>\n",
       "      <td>0.0</td>\n",
       "    </tr>\n",
       "    <tr>\n",
       "      <th>4</th>\n",
       "      <td>11668.14</td>\n",
       "      <td>41554.0</td>\n",
       "      <td>29885.86</td>\n",
       "      <td>0.0</td>\n",
       "      <td>0.0</td>\n",
       "      <td>0</td>\n",
       "      <td>0</td>\n",
       "      <td>0.0</td>\n",
       "      <td>0.0</td>\n",
       "      <td>1.0</td>\n",
       "      <td>0.0</td>\n",
       "      <td>1.0</td>\n",
       "    </tr>\n",
       "  </tbody>\n",
       "</table>\n",
       "</div>"
      ],
      "text/plain": [
       "     amount  oldbalanceOrg  newbalanceOrig  oldbalanceDest  newbalanceDest  \\\n",
       "0   9839.64       170136.0       160296.36             0.0             0.0   \n",
       "1   1864.28        21249.0        19384.72             0.0             0.0   \n",
       "2    181.00          181.0            0.00             0.0             0.0   \n",
       "3    181.00          181.0            0.00         21182.0             0.0   \n",
       "4  11668.14        41554.0        29885.86             0.0             0.0   \n",
       "\n",
       "   isFraud  isFlaggedFraud  type_CASH_OUT  type_DEBIT  type_PAYMENT  \\\n",
       "0        0               0            0.0         0.0           1.0   \n",
       "1        0               0            0.0         0.0           1.0   \n",
       "2        1               0            0.0         0.0           0.0   \n",
       "3        1               0            1.0         0.0           0.0   \n",
       "4        0               0            0.0         0.0           1.0   \n",
       "\n",
       "   type_TRANSFER  New_TypeDest_M  \n",
       "0            0.0             1.0  \n",
       "1            0.0             1.0  \n",
       "2            1.0             0.0  \n",
       "3            0.0             0.0  \n",
       "4            0.0             1.0  "
      ]
     },
     "execution_count": 11,
     "metadata": {},
     "output_type": "execute_result"
    }
   ],
   "source": [
    "paysim_dummies = pd.get_dummies(paysim, columns=['type', 'New_TypeOrig', 'New_TypeDest'], drop_first=True, dtype=float)\n",
    "paysim_dummies.head()"
   ]
  },
  {
   "cell_type": "markdown",
   "id": "9eab2788-d772-4d71-bf97-030dd8b24cdf",
   "metadata": {},
   "source": [
    "### 3.2 Split training and validation set"
   ]
  },
  {
   "cell_type": "code",
   "execution_count": 12,
   "id": "8fea6b32-01e8-426f-b7fc-f67ef2bb9d70",
   "metadata": {},
   "outputs": [],
   "source": [
    "y = paysim_dummies.isFraud\n",
    "X = paysim_dummies.drop(['isFraud'], axis=1)"
   ]
  },
  {
   "cell_type": "code",
   "execution_count": 13,
   "id": "998d9438-3655-42a3-b544-00866e87b8c7",
   "metadata": {},
   "outputs": [],
   "source": [
    "X_train, X_test, y_train, y_test = train_test_split(X, y, test_size=0.25, train_size=0.75, random_state=42)"
   ]
  },
  {
   "cell_type": "markdown",
   "id": "e2f12143-1405-4a09-9be5-4da1f6fc201b",
   "metadata": {},
   "source": [
    "### 3.3 Normalization"
   ]
  },
  {
   "cell_type": "code",
   "execution_count": 14,
   "id": "019a8eda-79dc-49e0-84db-321028a248c8",
   "metadata": {},
   "outputs": [
    {
     "data": {
      "text/html": [
       "<div>\n",
       "<style scoped>\n",
       "    .dataframe tbody tr th:only-of-type {\n",
       "        vertical-align: middle;\n",
       "    }\n",
       "\n",
       "    .dataframe tbody tr th {\n",
       "        vertical-align: top;\n",
       "    }\n",
       "\n",
       "    .dataframe thead th {\n",
       "        text-align: right;\n",
       "    }\n",
       "</style>\n",
       "<table border=\"1\" class=\"dataframe\">\n",
       "  <thead>\n",
       "    <tr style=\"text-align: right;\">\n",
       "      <th></th>\n",
       "      <th>amount</th>\n",
       "      <th>oldbalanceOrg</th>\n",
       "      <th>newbalanceOrig</th>\n",
       "      <th>oldbalanceDest</th>\n",
       "      <th>newbalanceDest</th>\n",
       "      <th>isFlaggedFraud</th>\n",
       "      <th>type_CASH_OUT</th>\n",
       "      <th>type_DEBIT</th>\n",
       "      <th>type_PAYMENT</th>\n",
       "      <th>type_TRANSFER</th>\n",
       "      <th>New_TypeDest_M</th>\n",
       "    </tr>\n",
       "  </thead>\n",
       "  <tbody>\n",
       "    <tr>\n",
       "      <th>3737323</th>\n",
       "      <td>0.249161</td>\n",
       "      <td>-0.281533</td>\n",
       "      <td>-0.172352</td>\n",
       "      <td>-0.190364</td>\n",
       "      <td>-0.299598</td>\n",
       "      <td>0</td>\n",
       "      <td>0.0</td>\n",
       "      <td>0.0</td>\n",
       "      <td>0.0</td>\n",
       "      <td>0.0</td>\n",
       "      <td>0.0</td>\n",
       "    </tr>\n",
       "    <tr>\n",
       "      <th>264914</th>\n",
       "      <td>-0.278728</td>\n",
       "      <td>-0.278241</td>\n",
       "      <td>-0.286072</td>\n",
       "      <td>-0.323357</td>\n",
       "      <td>-0.332817</td>\n",
       "      <td>0</td>\n",
       "      <td>0.0</td>\n",
       "      <td>0.0</td>\n",
       "      <td>1.0</td>\n",
       "      <td>0.0</td>\n",
       "      <td>1.0</td>\n",
       "    </tr>\n",
       "    <tr>\n",
       "      <th>85647</th>\n",
       "      <td>-0.045718</td>\n",
       "      <td>-0.251840</td>\n",
       "      <td>-0.203910</td>\n",
       "      <td>-0.264182</td>\n",
       "      <td>-0.319486</td>\n",
       "      <td>0</td>\n",
       "      <td>0.0</td>\n",
       "      <td>0.0</td>\n",
       "      <td>0.0</td>\n",
       "      <td>0.0</td>\n",
       "      <td>0.0</td>\n",
       "    </tr>\n",
       "    <tr>\n",
       "      <th>5899326</th>\n",
       "      <td>2.273319</td>\n",
       "      <td>-0.288760</td>\n",
       "      <td>-0.292478</td>\n",
       "      <td>0.616829</td>\n",
       "      <td>0.958439</td>\n",
       "      <td>0</td>\n",
       "      <td>0.0</td>\n",
       "      <td>0.0</td>\n",
       "      <td>0.0</td>\n",
       "      <td>1.0</td>\n",
       "      <td>0.0</td>\n",
       "    </tr>\n",
       "    <tr>\n",
       "      <th>2544263</th>\n",
       "      <td>-0.168492</td>\n",
       "      <td>0.723137</td>\n",
       "      <td>0.733818</td>\n",
       "      <td>-0.201122</td>\n",
       "      <td>-0.241031</td>\n",
       "      <td>0</td>\n",
       "      <td>0.0</td>\n",
       "      <td>0.0</td>\n",
       "      <td>0.0</td>\n",
       "      <td>0.0</td>\n",
       "      <td>0.0</td>\n",
       "    </tr>\n",
       "  </tbody>\n",
       "</table>\n",
       "</div>"
      ],
      "text/plain": [
       "           amount  oldbalanceOrg  newbalanceOrig  oldbalanceDest  \\\n",
       "3737323  0.249161      -0.281533       -0.172352       -0.190364   \n",
       "264914  -0.278728      -0.278241       -0.286072       -0.323357   \n",
       "85647   -0.045718      -0.251840       -0.203910       -0.264182   \n",
       "5899326  2.273319      -0.288760       -0.292478        0.616829   \n",
       "2544263 -0.168492       0.723137        0.733818       -0.201122   \n",
       "\n",
       "         newbalanceDest  isFlaggedFraud  type_CASH_OUT  type_DEBIT  \\\n",
       "3737323       -0.299598               0            0.0         0.0   \n",
       "264914        -0.332817               0            0.0         0.0   \n",
       "85647         -0.319486               0            0.0         0.0   \n",
       "5899326        0.958439               0            0.0         0.0   \n",
       "2544263       -0.241031               0            0.0         0.0   \n",
       "\n",
       "         type_PAYMENT  type_TRANSFER  New_TypeDest_M  \n",
       "3737323           0.0            0.0             0.0  \n",
       "264914            1.0            0.0             1.0  \n",
       "85647             0.0            0.0             0.0  \n",
       "5899326           0.0            1.0             0.0  \n",
       "2544263           0.0            0.0             0.0  "
      ]
     },
     "execution_count": 14,
     "metadata": {},
     "output_type": "execute_result"
    }
   ],
   "source": [
    "normalize_cols = [\"amount\", \"oldbalanceOrg\", \"newbalanceOrig\", \"newbalanceDest\", \"oldbalanceDest\"]\n",
    "\n",
    "features_train = X_train[normalize_cols]\n",
    "features_test = X_test[normalize_cols]\n",
    "scaler = StandardScaler().fit(features_train.values)\n",
    "features_train = scaler.transform(features_train.values)\n",
    "features_test = scaler.transform(features_test.values)\n",
    "X_train[normalize_cols] = features_train\n",
    "X_test[normalize_cols] =features_test\n",
    "\n",
    "X_test.head()"
   ]
  },
  {
   "cell_type": "markdown",
   "id": "5ec08d78-4927-4d8c-9fad-1a8eca5ab708",
   "metadata": {},
   "source": [
    "## 4. Model Development"
   ]
  },
  {
   "cell_type": "markdown",
   "id": "0c6d7566-6651-40d5-9efb-b636a5dc9587",
   "metadata": {},
   "source": [
    "### 4.1 Decision Tree"
   ]
  },
  {
   "cell_type": "code",
   "execution_count": 15,
   "id": "81b224a0-c972-44a4-92f1-06f29ef9f32f",
   "metadata": {},
   "outputs": [],
   "source": [
    "from sklearn.tree import DecisionTreeClassifier\n",
    "from sklearn.model_selection import RandomizedSearchCV"
   ]
  },
  {
   "cell_type": "markdown",
   "id": "0ef72dc7-bbcd-4601-87ae-3443b4f61ddb",
   "metadata": {},
   "source": [
    "#### 4.1.1 Model Development"
   ]
  },
  {
   "cell_type": "code",
   "execution_count": 16,
   "id": "bf5c2086-8cc9-40f7-84e9-5be83ceff8cf",
   "metadata": {},
   "outputs": [],
   "source": [
    "# Create the random grid\n",
    "random_grid = {'criterion': ['gini', 'entropy', 'log_loss'],\n",
    "               'splitter': ['best', 'random'],\n",
    "               'max_depth': [int(x) for x in np.linspace(10, 110, num = 11)],\n",
    "               'min_samples_split': [2, 5, 10],\n",
    "               'min_samples_leaf': [1, 2, 4],\n",
    "               'max_features': ['sqrt', 'log2', None],\n",
    "               'ccp_alpha': [x/10 for x in range(1, 101)]}"
   ]
  },
  {
   "cell_type": "code",
   "execution_count": 17,
   "id": "e7536da7-7bd5-4063-a6a2-c52e941078fc",
   "metadata": {},
   "outputs": [],
   "source": [
    "# Use the random grid to search for best hyperparameters\n",
    "# First create the base model to tune\n",
    "model = DecisionTreeClassifier()\n",
    "# search across 100 different combinations, and use all available cores\n",
    "model_random = RandomizedSearchCV(estimator=model, param_distributions = random_grid, n_iter = 100, cv = 5, \n",
    "                                  verbose=0, random_state=42, n_jobs = -1, scoring='roc_auc')\n"
   ]
  },
  {
   "cell_type": "markdown",
   "id": "49afb4e8-757b-4cf7-93ba-6fb91de641f5",
   "metadata": {},
   "source": [
    "#### 4.1.2 Model Training"
   ]
  },
  {
   "cell_type": "code",
   "execution_count": 18,
   "id": "2325cff0-f310-4cf9-9e85-edd8dc1095ab",
   "metadata": {},
   "outputs": [
    {
     "name": "stderr",
     "output_type": "stream",
     "text": [
      "/Users/mj/anaconda3/envs/tf/lib/python3.11/site-packages/joblib/externals/loky/process_executor.py:700: UserWarning: A worker stopped while some jobs were given to the executor. This can be caused by a too short worker timeout or by a memory leak.\n",
      "  warnings.warn(\n"
     ]
    }
   ],
   "source": [
    "# Fit the random search model\n",
    "start_time = time.time()\n",
    "model_random.fit(X_train, y_train)\n",
    "run_time = time.time()-start_time"
   ]
  },
  {
   "cell_type": "code",
   "execution_count": 19,
   "id": "b082fd01-804d-44b3-8504-f6f3b8cfb696",
   "metadata": {},
   "outputs": [
    {
     "name": "stdout",
     "output_type": "stream",
     "text": [
      "Time required to train decision tree model:  482.33794116973877\n"
     ]
    }
   ],
   "source": [
    "print('Time required to train decision tree model: ', run_time)"
   ]
  },
  {
   "cell_type": "code",
   "execution_count": 20,
   "id": "dad17d28-60b7-40f9-9a66-1a9a25168ac6",
   "metadata": {},
   "outputs": [],
   "source": [
    "best_dtc = model_random.best_estimator_\n",
    "model_random.best_estimator_\n",
    "\n",
    "# Generate predictions with the best model\n",
    "dtc_pred = best_dtc.predict(X_test)\n",
    "dtc_prob = best_dtc.predict_proba(X_test)"
   ]
  },
  {
   "cell_type": "markdown",
   "id": "e4a05a60-65f1-4886-a65f-b39bc80b03b5",
   "metadata": {},
   "source": [
    "#### 4.1.3 Model Performance "
   ]
  },
  {
   "cell_type": "markdown",
   "id": "80525bfd-773c-4b22-977a-83b0e1acd190",
   "metadata": {},
   "source": [
    "There are many metrics to evaluate the performance of the classification model. The most common metric `accuracy` is not a good evaluation metric for this problem due to the imbalanced dataset. here, it is important to achieve high performance on precision as well as recall. Few options for such metrics are as follows:\n",
    "\n",
    "- `F1 score`: The F1 score can be interpreted as a harmonic mean of the precision and recall, where an F1 score reaches its best value at 1 and worst score at 0. The relative contribution of precision and recall to the F1 score are equal.\n",
    "\n",
    "- `PR curve`: The precision-recall curve shows the tradeoff between precision and recall for different thresholds. A high area under the curve represents both high recall and high precision, where high precision relates to a low false positive rate, and high recall relates to a low false negative rate.\n",
    "\n",
    "- `Confusion Matrix`: A confusion matrix is a table or chart showing the accuracy of a classifier's predictions concerning two or more classes. The classifier predictions are on the x-axis and the result (accuracy) is on the y-axis. The cells of the table are filled with the number of classifier predictions. Correct predictions go diagonally from top left to bottom right."
   ]
  },
  {
   "cell_type": "markdown",
   "id": "cc569d16-3523-4a9c-bf04-9942c15d8dc6",
   "metadata": {},
   "source": [
    "!!!high cost associated with False Negative =>Recall\n",
    "\n",
    "Let's say a customer requires that our classifier correctly predict fraud 60% of the time, so as not to bother customers due to false positive results.\n",
    "\n",
    "How to solve this problem? => It is necessary to select a threshold that maximizes recall, provided that precision > 0.6."
   ]
  },
  {
   "cell_type": "code",
   "execution_count": 21,
   "id": "d03f6e22-a147-4b3b-95ec-b3acce03cbff",
   "metadata": {},
   "outputs": [],
   "source": [
    "from sklearn.metrics import auc, ConfusionMatrixDisplay, confusion_matrix, roc_auc_score, precision_score, recall_score, accuracy_score, f1_score, classification_report, precision_recall_curve"
   ]
  },
  {
   "cell_type": "code",
   "execution_count": 22,
   "id": "e2f5944e-3d17-4ab4-8cbd-4002e3b7ce0b",
   "metadata": {},
   "outputs": [
    {
     "data": {
      "image/png": "[encoded data removed]",
      "text/plain": [
       "<Figure size 640x480 with 2 Axes>"
      ]
     },
     "metadata": {},
     "output_type": "display_data"
    }
   ],
   "source": [
    "# Create the confusion matrix\n",
    "cm = confusion_matrix(y_test, dtc_pred)\n",
    "\n",
    "ConfusionMatrixDisplay(confusion_matrix=cm).plot();"
   ]
  },
  {
   "cell_type": "code",
   "execution_count": 23,
   "id": "8003cc4e-26c8-4063-a7ff-b52121ff0acd",
   "metadata": {},
   "outputs": [
    {
     "data": {
      "image/png": "[encoded data removed]",
      "text/plain": [
       "<Figure size 640x480 with 1 Axes>"
      ]
     },
     "metadata": {},
     "output_type": "display_data"
    },
    {
     "name": "stdout",
     "output_type": "stream",
     "text": [
      "AUC PR: 0.501\n"
     ]
    }
   ],
   "source": [
    "# calculate inputs for the PR curve\n",
    "precision, recall, thresholds = precision_recall_curve(y_test, dtc_prob[:, 1])\n",
    "\n",
    "# plot PR curve\n",
    "plt.plot(recall, precision, marker='.', label='Logistic')\n",
    "# axis labels\n",
    "plt.xlabel('Recall')\n",
    "plt.ylabel('Precision')\n",
    "# show the legend\n",
    "plt.legend()\n",
    "plt.show()\n",
    "\n",
    "# calculate and print PR AUC\n",
    "auc_pr = auc(recall, precision)\n",
    "print('AUC PR: %.3f' % auc_pr)"
   ]
  },
  {
   "cell_type": "markdown",
   "id": "e740bb48-d86c-4a03-b241-43636b9b0da4",
   "metadata": {},
   "source": [
    "#### 4.2 SMOTE"
   ]
  },
  {
   "cell_type": "code",
   "execution_count": 24,
   "id": "14d3f8a5-6401-4c17-bfb6-b090f1cb2ba5",
   "metadata": {},
   "outputs": [
    {
     "name": "stdout",
     "output_type": "stream",
     "text": [
      "0.11.0\n"
     ]
    }
   ],
   "source": [
    "import imblearn\n",
    "from imblearn.over_sampling import SMOTE\n",
    "from imblearn.under_sampling import RandomUnderSampler\n",
    "from imblearn.pipeline import Pipeline\n",
    "print(imblearn.__version__)"
   ]
  },
  {
   "cell_type": "markdown",
   "id": "061b6d3e-ac95-4977-8972-b42f19d9a62c",
   "metadata": {},
   "source": [
    "#### 4.2.1 Model Development"
   ]
  },
  {
   "cell_type": "code",
   "execution_count": 25,
   "id": "7fe824ad-3a91-4c44-982a-782d268494be",
   "metadata": {},
   "outputs": [],
   "source": [
    "model = DecisionTreeClassifier()\n",
    "over = SMOTE(sampling_strategy=0.3, k_neighbors=5)\n",
    "under = RandomUnderSampler(sampling_strategy=0.5)\n",
    "steps = [('over', over), ('under', under), ('model', model)]\n",
    "pipeline = Pipeline(steps=steps)"
   ]
  },
  {
   "cell_type": "code",
   "execution_count": 26,
   "id": "046c255d-c93a-4201-9609-ff9066011629",
   "metadata": {},
   "outputs": [],
   "source": [
    "random_grid = {'model__criterion': ['gini', 'entropy', 'log_loss'],\n",
    "               'model__splitter': ['best', 'random'],\n",
    "               'model__max_depth': [int(x) for x in np.linspace(10, 110, num = 11)],\n",
    "               'model__min_samples_split': [2, 5, 10],\n",
    "               'model__min_samples_leaf': [1, 2, 4],\n",
    "               'model__max_features': ['sqrt', 'log2', None],\n",
    "               'model__ccp_alpha': [x/10 for x in range(1, 101)]}"
   ]
  },
  {
   "cell_type": "markdown",
   "id": "12fe2d80-a688-4957-a8f3-48ccb22473a3",
   "metadata": {},
   "source": [
    "#### 4.2.2 Training"
   ]
  },
  {
   "cell_type": "code",
   "execution_count": 27,
   "id": "c5aeecda-eca9-441a-a157-221668919e55",
   "metadata": {},
   "outputs": [
    {
     "data": {
      "text/html": [
       "<style>#sk-container-id-1 {color: black;}#sk-container-id-1 pre{padding: 0;}#sk-container-id-1 div.sk-toggleable {background-color: white;}#sk-container-id-1 label.sk-toggleable__label {cursor: pointer;display: block;width: 100%;margin-bottom: 0;padding: 0.3em;box-sizing: border-box;text-align: center;}#sk-container-id-1 label.sk-toggleable__label-arrow:before {content: \"▸\";float: left;margin-right: 0.25em;color: #696969;}#sk-container-id-1 label.sk-toggleable__label-arrow:hover:before {color: black;}#sk-container-id-1 div.sk-estimator:hover label.sk-toggleable__label-arrow:before {color: black;}#sk-container-id-1 div.sk-toggleable__content {max-height: 0;max-width: 0;overflow: hidden;text-align: left;background-color: #f0f8ff;}#sk-container-id-1 div.sk-toggleable__content pre {margin: 0.2em;color: black;border-radius: 0.25em;background-color: #f0f8ff;}#sk-container-id-1 input.sk-toggleable__control:checked~div.sk-toggleable__content {max-height: 200px;max-width: 100%;overflow: auto;}#sk-container-id-1 input.sk-toggleable__control:checked~label.sk-toggleable__label-arrow:before {content: \"▾\";}#sk-container-id-1 div.sk-estimator input.sk-toggleable__control:checked~label.sk-toggleable__label {background-color: #d4ebff;}#sk-container-id-1 div.sk-label input.sk-toggleable__control:checked~label.sk-toggleable__label {background-color: #d4ebff;}#sk-container-id-1 input.sk-hidden--visually {border: 0;clip: rect(1px 1px 1px 1px);clip: rect(1px, 1px, 1px, 1px);height: 1px;margin: -1px;overflow: hidden;padding: 0;position: absolute;width: 1px;}#sk-container-id-1 div.sk-estimator {font-family: monospace;background-color: #f0f8ff;border: 1px dotted black;border-radius: 0.25em;box-sizing: border-box;margin-bottom: 0.5em;}#sk-container-id-1 div.sk-estimator:hover {background-color: #d4ebff;}#sk-container-id-1 div.sk-parallel-item::after {content: \"\";width: 100%;border-bottom: 1px solid gray;flex-grow: 1;}#sk-container-id-1 div.sk-label:hover label.sk-toggleable__label {background-color: #d4ebff;}#sk-container-id-1 div.sk-serial::before {content: \"\";position: absolute;border-left: 1px solid gray;box-sizing: border-box;top: 0;bottom: 0;left: 50%;z-index: 0;}#sk-container-id-1 div.sk-serial {display: flex;flex-direction: column;align-items: center;background-color: white;padding-right: 0.2em;padding-left: 0.2em;position: relative;}#sk-container-id-1 div.sk-item {position: relative;z-index: 1;}#sk-container-id-1 div.sk-parallel {display: flex;align-items: stretch;justify-content: center;background-color: white;position: relative;}#sk-container-id-1 div.sk-item::before, #sk-container-id-1 div.sk-parallel-item::before {content: \"\";position: absolute;border-left: 1px solid gray;box-sizing: border-box;top: 0;bottom: 0;left: 50%;z-index: -1;}#sk-container-id-1 div.sk-parallel-item {display: flex;flex-direction: column;z-index: 1;position: relative;background-color: white;}#sk-container-id-1 div.sk-parallel-item:first-child::after {align-self: flex-end;width: 50%;}#sk-container-id-1 div.sk-parallel-item:last-child::after {align-self: flex-start;width: 50%;}#sk-container-id-1 div.sk-parallel-item:only-child::after {width: 0;}#sk-container-id-1 div.sk-dashed-wrapped {border: 1px dashed gray;margin: 0 0.4em 0.5em 0.4em;box-sizing: border-box;padding-bottom: 0.4em;background-color: white;}#sk-container-id-1 div.sk-label label {font-family: monospace;font-weight: bold;display: inline-block;line-height: 1.2em;}#sk-container-id-1 div.sk-label-container {text-align: center;}#sk-container-id-1 div.sk-container {/* jupyter's `normalize.less` sets `[hidden] { display: none; }` but bootstrap.min.css set `[hidden] { display: none !important; }` so we also need the `!important` here to be able to override the default hidden behavior on the sphinx rendered scikit-learn.org. See: https://github.com/scikit-learn/scikit-learn/issues/21755 */display: inline-block !important;position: relative;}#sk-container-id-1 div.sk-text-repr-fallback {display: none;}</style><div id=\"sk-container-id-1\" class=\"sk-top-container\"><div class=\"sk-text-repr-fallback\"><pre>RandomizedSearchCV(cv=5,\n",
       "                   estimator=Pipeline(steps=[(&#x27;over&#x27;,\n",
       "                                              SMOTE(sampling_strategy=0.3)),\n",
       "                                             (&#x27;under&#x27;,\n",
       "                                              RandomUnderSampler(sampling_strategy=0.5)),\n",
       "                                             (&#x27;model&#x27;,\n",
       "                                              DecisionTreeClassifier())]),\n",
       "                   n_iter=100, n_jobs=-1,\n",
       "                   param_distributions={&#x27;model__ccp_alpha&#x27;: [0.1, 0.2, 0.3, 0.4,\n",
       "                                                             0.5, 0.6, 0.7, 0.8,\n",
       "                                                             0.9, 1.0, 1.1, 1.2,\n",
       "                                                             1.3, 1.4, 1.5, 1.6,\n",
       "                                                             1.7, 1.8, 1.9, 2.0,\n",
       "                                                             2.1, 2.2, 2.3, 2.4,\n",
       "                                                             2.5, 2.6, 2.7, 2.8,\n",
       "                                                             2.9, 3.0, ...],\n",
       "                                        &#x27;model__criterion&#x27;: [&#x27;gini&#x27;, &#x27;entropy&#x27;,\n",
       "                                                             &#x27;log_loss&#x27;],\n",
       "                                        &#x27;model__max_depth&#x27;: [10, 20, 30, 40, 50,\n",
       "                                                             60, 70, 80, 90,\n",
       "                                                             100, 110],\n",
       "                                        &#x27;model__max_features&#x27;: [&#x27;sqrt&#x27;, &#x27;log2&#x27;,\n",
       "                                                                None],\n",
       "                                        &#x27;model__min_samples_leaf&#x27;: [1, 2, 4],\n",
       "                                        &#x27;model__min_samples_split&#x27;: [2, 5, 10],\n",
       "                                        &#x27;model__splitter&#x27;: [&#x27;best&#x27;, &#x27;random&#x27;]},\n",
       "                   random_state=42, scoring=&#x27;roc_auc&#x27;)</pre><b>In a Jupyter environment, please rerun this cell to show the HTML representation or trust the notebook. <br />On GitHub, the HTML representation is unable to render, please try loading this page with nbviewer.org.</b></div><div class=\"sk-container\" hidden><div class=\"sk-item sk-dashed-wrapped\"><div class=\"sk-label-container\"><div class=\"sk-label sk-toggleable\"><input class=\"sk-toggleable__control sk-hidden--visually\" id=\"sk-estimator-id-1\" type=\"checkbox\" ><label for=\"sk-estimator-id-1\" class=\"sk-toggleable__label sk-toggleable__label-arrow\">RandomizedSearchCV</label><div class=\"sk-toggleable__content\"><pre>RandomizedSearchCV(cv=5,\n",
       "                   estimator=Pipeline(steps=[(&#x27;over&#x27;,\n",
       "                                              SMOTE(sampling_strategy=0.3)),\n",
       "                                             (&#x27;under&#x27;,\n",
       "                                              RandomUnderSampler(sampling_strategy=0.5)),\n",
       "                                             (&#x27;model&#x27;,\n",
       "                                              DecisionTreeClassifier())]),\n",
       "                   n_iter=100, n_jobs=-1,\n",
       "                   param_distributions={&#x27;model__ccp_alpha&#x27;: [0.1, 0.2, 0.3, 0.4,\n",
       "                                                             0.5, 0.6, 0.7, 0.8,\n",
       "                                                             0.9, 1.0, 1.1, 1.2,\n",
       "                                                             1.3, 1.4, 1.5, 1.6,\n",
       "                                                             1.7, 1.8, 1.9, 2.0,\n",
       "                                                             2.1, 2.2, 2.3, 2.4,\n",
       "                                                             2.5, 2.6, 2.7, 2.8,\n",
       "                                                             2.9, 3.0, ...],\n",
       "                                        &#x27;model__criterion&#x27;: [&#x27;gini&#x27;, &#x27;entropy&#x27;,\n",
       "                                                             &#x27;log_loss&#x27;],\n",
       "                                        &#x27;model__max_depth&#x27;: [10, 20, 30, 40, 50,\n",
       "                                                             60, 70, 80, 90,\n",
       "                                                             100, 110],\n",
       "                                        &#x27;model__max_features&#x27;: [&#x27;sqrt&#x27;, &#x27;log2&#x27;,\n",
       "                                                                None],\n",
       "                                        &#x27;model__min_samples_leaf&#x27;: [1, 2, 4],\n",
       "                                        &#x27;model__min_samples_split&#x27;: [2, 5, 10],\n",
       "                                        &#x27;model__splitter&#x27;: [&#x27;best&#x27;, &#x27;random&#x27;]},\n",
       "                   random_state=42, scoring=&#x27;roc_auc&#x27;)</pre></div></div></div><div class=\"sk-parallel\"><div class=\"sk-parallel-item\"><div class=\"sk-item\"><div class=\"sk-label-container\"><div class=\"sk-label sk-toggleable\"><input class=\"sk-toggleable__control sk-hidden--visually\" id=\"sk-estimator-id-2\" type=\"checkbox\" ><label for=\"sk-estimator-id-2\" class=\"sk-toggleable__label sk-toggleable__label-arrow\">estimator: Pipeline</label><div class=\"sk-toggleable__content\"><pre>Pipeline(steps=[(&#x27;over&#x27;, SMOTE(sampling_strategy=0.3)),\n",
       "                (&#x27;under&#x27;, RandomUnderSampler(sampling_strategy=0.5)),\n",
       "                (&#x27;model&#x27;, DecisionTreeClassifier())])</pre></div></div></div><div class=\"sk-serial\"><div class=\"sk-item\"><div class=\"sk-serial\"><div class=\"sk-item\"><div class=\"sk-estimator sk-toggleable\"><input class=\"sk-toggleable__control sk-hidden--visually\" id=\"sk-estimator-id-3\" type=\"checkbox\" ><label for=\"sk-estimator-id-3\" class=\"sk-toggleable__label sk-toggleable__label-arrow\">SMOTE</label><div class=\"sk-toggleable__content\"><pre>SMOTE(sampling_strategy=0.3)</pre></div></div></div><div class=\"sk-item\"><div class=\"sk-estimator sk-toggleable\"><input class=\"sk-toggleable__control sk-hidden--visually\" id=\"sk-estimator-id-4\" type=\"checkbox\" ><label for=\"sk-estimator-id-4\" class=\"sk-toggleable__label sk-toggleable__label-arrow\">RandomUnderSampler</label><div class=\"sk-toggleable__content\"><pre>RandomUnderSampler(sampling_strategy=0.5)</pre></div></div></div><div class=\"sk-item\"><div class=\"sk-estimator sk-toggleable\"><input class=\"sk-toggleable__control sk-hidden--visually\" id=\"sk-estimator-id-5\" type=\"checkbox\" ><label for=\"sk-estimator-id-5\" class=\"sk-toggleable__label sk-toggleable__label-arrow\">DecisionTreeClassifier</label><div class=\"sk-toggleable__content\"><pre>DecisionTreeClassifier()</pre></div></div></div></div></div></div></div></div></div></div></div></div>"
      ],
      "text/plain": [
       "RandomizedSearchCV(cv=5,\n",
       "                   estimator=Pipeline(steps=[('over',\n",
       "                                              SMOTE(sampling_strategy=0.3)),\n",
       "                                             ('under',\n",
       "                                              RandomUnderSampler(sampling_strategy=0.5)),\n",
       "                                             ('model',\n",
       "                                              DecisionTreeClassifier())]),\n",
       "                   n_iter=100, n_jobs=-1,\n",
       "                   param_distributions={'model__ccp_alpha': [0.1, 0.2, 0.3, 0.4,\n",
       "                                                             0.5, 0.6, 0.7, 0.8,\n",
       "                                                             0.9, 1.0, 1.1, 1.2,\n",
       "                                                             1.3, 1.4, 1.5, 1.6,\n",
       "                                                             1.7, 1.8, 1.9, 2.0,\n",
       "                                                             2.1, 2.2, 2.3, 2.4,\n",
       "                                                             2.5, 2.6, 2.7, 2.8,\n",
       "                                                             2.9, 3.0, ...],\n",
       "                                        'model__criterion': ['gini', 'entropy',\n",
       "                                                             'log_loss'],\n",
       "                                        'model__max_depth': [10, 20, 30, 40, 50,\n",
       "                                                             60, 70, 80, 90,\n",
       "                                                             100, 110],\n",
       "                                        'model__max_features': ['sqrt', 'log2',\n",
       "                                                                None],\n",
       "                                        'model__min_samples_leaf': [1, 2, 4],\n",
       "                                        'model__min_samples_split': [2, 5, 10],\n",
       "                                        'model__splitter': ['best', 'random']},\n",
       "                   random_state=42, scoring='roc_auc')"
      ]
     },
     "execution_count": 27,
     "metadata": {},
     "output_type": "execute_result"
    }
   ],
   "source": [
    "m_smote = RandomizedSearchCV(pipeline, param_distributions = random_grid, n_iter = 100, cv = 5, \n",
    "                             verbose=0, random_state=42, n_jobs = -1, scoring='roc_auc')\n",
    "\n",
    "m_smote.fit(X_train, y_train)"
   ]
  },
  {
   "cell_type": "code",
   "execution_count": 28,
   "id": "db152be1-e01c-4259-b84d-b31912ba12e5",
   "metadata": {},
   "outputs": [
    {
     "data": {
      "text/html": [
       "<style>#sk-container-id-2 {color: black;}#sk-container-id-2 pre{padding: 0;}#sk-container-id-2 div.sk-toggleable {background-color: white;}#sk-container-id-2 label.sk-toggleable__label {cursor: pointer;display: block;width: 100%;margin-bottom: 0;padding: 0.3em;box-sizing: border-box;text-align: center;}#sk-container-id-2 label.sk-toggleable__label-arrow:before {content: \"▸\";float: left;margin-right: 0.25em;color: #696969;}#sk-container-id-2 label.sk-toggleable__label-arrow:hover:before {color: black;}#sk-container-id-2 div.sk-estimator:hover label.sk-toggleable__label-arrow:before {color: black;}#sk-container-id-2 div.sk-toggleable__content {max-height: 0;max-width: 0;overflow: hidden;text-align: left;background-color: #f0f8ff;}#sk-container-id-2 div.sk-toggleable__content pre {margin: 0.2em;color: black;border-radius: 0.25em;background-color: #f0f8ff;}#sk-container-id-2 input.sk-toggleable__control:checked~div.sk-toggleable__content {max-height: 200px;max-width: 100%;overflow: auto;}#sk-container-id-2 input.sk-toggleable__control:checked~label.sk-toggleable__label-arrow:before {content: \"▾\";}#sk-container-id-2 div.sk-estimator input.sk-toggleable__control:checked~label.sk-toggleable__label {background-color: #d4ebff;}#sk-container-id-2 div.sk-label input.sk-toggleable__control:checked~label.sk-toggleable__label {background-color: #d4ebff;}#sk-container-id-2 input.sk-hidden--visually {border: 0;clip: rect(1px 1px 1px 1px);clip: rect(1px, 1px, 1px, 1px);height: 1px;margin: -1px;overflow: hidden;padding: 0;position: absolute;width: 1px;}#sk-container-id-2 div.sk-estimator {font-family: monospace;background-color: #f0f8ff;border: 1px dotted black;border-radius: 0.25em;box-sizing: border-box;margin-bottom: 0.5em;}#sk-container-id-2 div.sk-estimator:hover {background-color: #d4ebff;}#sk-container-id-2 div.sk-parallel-item::after {content: \"\";width: 100%;border-bottom: 1px solid gray;flex-grow: 1;}#sk-container-id-2 div.sk-label:hover label.sk-toggleable__label {background-color: #d4ebff;}#sk-container-id-2 div.sk-serial::before {content: \"\";position: absolute;border-left: 1px solid gray;box-sizing: border-box;top: 0;bottom: 0;left: 50%;z-index: 0;}#sk-container-id-2 div.sk-serial {display: flex;flex-direction: column;align-items: center;background-color: white;padding-right: 0.2em;padding-left: 0.2em;position: relative;}#sk-container-id-2 div.sk-item {position: relative;z-index: 1;}#sk-container-id-2 div.sk-parallel {display: flex;align-items: stretch;justify-content: center;background-color: white;position: relative;}#sk-container-id-2 div.sk-item::before, #sk-container-id-2 div.sk-parallel-item::before {content: \"\";position: absolute;border-left: 1px solid gray;box-sizing: border-box;top: 0;bottom: 0;left: 50%;z-index: -1;}#sk-container-id-2 div.sk-parallel-item {display: flex;flex-direction: column;z-index: 1;position: relative;background-color: white;}#sk-container-id-2 div.sk-parallel-item:first-child::after {align-self: flex-end;width: 50%;}#sk-container-id-2 div.sk-parallel-item:last-child::after {align-self: flex-start;width: 50%;}#sk-container-id-2 div.sk-parallel-item:only-child::after {width: 0;}#sk-container-id-2 div.sk-dashed-wrapped {border: 1px dashed gray;margin: 0 0.4em 0.5em 0.4em;box-sizing: border-box;padding-bottom: 0.4em;background-color: white;}#sk-container-id-2 div.sk-label label {font-family: monospace;font-weight: bold;display: inline-block;line-height: 1.2em;}#sk-container-id-2 div.sk-label-container {text-align: center;}#sk-container-id-2 div.sk-container {/* jupyter's `normalize.less` sets `[hidden] { display: none; }` but bootstrap.min.css set `[hidden] { display: none !important; }` so we also need the `!important` here to be able to override the default hidden behavior on the sphinx rendered scikit-learn.org. See: https://github.com/scikit-learn/scikit-learn/issues/21755 */display: inline-block !important;position: relative;}#sk-container-id-2 div.sk-text-repr-fallback {display: none;}</style><div id=\"sk-container-id-2\" class=\"sk-top-container\"><div class=\"sk-text-repr-fallback\"><pre>Pipeline(steps=[(&#x27;over&#x27;, SMOTE(sampling_strategy=0.3)),\n",
       "                (&#x27;under&#x27;, RandomUnderSampler(sampling_strategy=0.5)),\n",
       "                (&#x27;model&#x27;,\n",
       "                 DecisionTreeClassifier(ccp_alpha=0.1, criterion=&#x27;entropy&#x27;,\n",
       "                                        max_depth=80, min_samples_leaf=2,\n",
       "                                        min_samples_split=5))])</pre><b>In a Jupyter environment, please rerun this cell to show the HTML representation or trust the notebook. <br />On GitHub, the HTML representation is unable to render, please try loading this page with nbviewer.org.</b></div><div class=\"sk-container\" hidden><div class=\"sk-item sk-dashed-wrapped\"><div class=\"sk-label-container\"><div class=\"sk-label sk-toggleable\"><input class=\"sk-toggleable__control sk-hidden--visually\" id=\"sk-estimator-id-6\" type=\"checkbox\" ><label for=\"sk-estimator-id-6\" class=\"sk-toggleable__label sk-toggleable__label-arrow\">Pipeline</label><div class=\"sk-toggleable__content\"><pre>Pipeline(steps=[(&#x27;over&#x27;, SMOTE(sampling_strategy=0.3)),\n",
       "                (&#x27;under&#x27;, RandomUnderSampler(sampling_strategy=0.5)),\n",
       "                (&#x27;model&#x27;,\n",
       "                 DecisionTreeClassifier(ccp_alpha=0.1, criterion=&#x27;entropy&#x27;,\n",
       "                                        max_depth=80, min_samples_leaf=2,\n",
       "                                        min_samples_split=5))])</pre></div></div></div><div class=\"sk-serial\"><div class=\"sk-item\"><div class=\"sk-estimator sk-toggleable\"><input class=\"sk-toggleable__control sk-hidden--visually\" id=\"sk-estimator-id-7\" type=\"checkbox\" ><label for=\"sk-estimator-id-7\" class=\"sk-toggleable__label sk-toggleable__label-arrow\">SMOTE</label><div class=\"sk-toggleable__content\"><pre>SMOTE(sampling_strategy=0.3)</pre></div></div></div><div class=\"sk-item\"><div class=\"sk-estimator sk-toggleable\"><input class=\"sk-toggleable__control sk-hidden--visually\" id=\"sk-estimator-id-8\" type=\"checkbox\" ><label for=\"sk-estimator-id-8\" class=\"sk-toggleable__label sk-toggleable__label-arrow\">RandomUnderSampler</label><div class=\"sk-toggleable__content\"><pre>RandomUnderSampler(sampling_strategy=0.5)</pre></div></div></div><div class=\"sk-item\"><div class=\"sk-estimator sk-toggleable\"><input class=\"sk-toggleable__control sk-hidden--visually\" id=\"sk-estimator-id-9\" type=\"checkbox\" ><label for=\"sk-estimator-id-9\" class=\"sk-toggleable__label sk-toggleable__label-arrow\">DecisionTreeClassifier</label><div class=\"sk-toggleable__content\"><pre>DecisionTreeClassifier(ccp_alpha=0.1, criterion=&#x27;entropy&#x27;, max_depth=80,\n",
       "                       min_samples_leaf=2, min_samples_split=5)</pre></div></div></div></div></div></div></div>"
      ],
      "text/plain": [
       "Pipeline(steps=[('over', SMOTE(sampling_strategy=0.3)),\n",
       "                ('under', RandomUnderSampler(sampling_strategy=0.5)),\n",
       "                ('model',\n",
       "                 DecisionTreeClassifier(ccp_alpha=0.1, criterion='entropy',\n",
       "                                        max_depth=80, min_samples_leaf=2,\n",
       "                                        min_samples_split=5))])"
      ]
     },
     "execution_count": 28,
     "metadata": {},
     "output_type": "execute_result"
    }
   ],
   "source": [
    "best_dtc_smote = m_smote.best_estimator_\n",
    "m_smote.best_estimator_"
   ]
  },
  {
   "cell_type": "code",
   "execution_count": 29,
   "id": "bda1a5db-6708-4e4b-a7c8-de37a70caa3b",
   "metadata": {},
   "outputs": [],
   "source": [
    "# Generate predictions with the best model\n",
    "dtc_smote_pred = best_dtc_smote.predict(X_test)\n",
    "dtc_smote_prob = best_dtc_smote.predict_proba(X_test)"
   ]
  },
  {
   "cell_type": "markdown",
   "id": "5e480155-a7f3-4d68-90b8-11ec55bd27d3",
   "metadata": {},
   "source": [
    "#### 4.2.3 Performance"
   ]
  },
  {
   "cell_type": "code",
   "execution_count": 30,
   "id": "c8540338-302b-4f9f-af10-53f43fe48070",
   "metadata": {},
   "outputs": [
    {
     "data": {
      "image/png": "[encoded data removed]",
      "text/plain": [
       "<Figure size 640x480 with 2 Axes>"
      ]
     },
     "metadata": {},
     "output_type": "display_data"
    }
   ],
   "source": [
    "# Create the confusion matrix\n",
    "cm = confusion_matrix(y_test, dtc_smote_pred)\n",
    "\n",
    "ConfusionMatrixDisplay(confusion_matrix=cm).plot();"
   ]
  },
  {
   "cell_type": "code",
   "execution_count": 31,
   "id": "78c2f38a-18b0-4ef2-af12-8f9d108d2bed",
   "metadata": {},
   "outputs": [
    {
     "data": {
      "image/png": "[encoded data removed]",
      "text/plain": [
       "<Figure size 640x480 with 1 Axes>"
      ]
     },
     "metadata": {},
     "output_type": "display_data"
    },
    {
     "name": "stdout",
     "output_type": "stream",
     "text": [
      "AUC PR: 0.431\n"
     ]
    }
   ],
   "source": [
    "# calculate inputs for the PR curve\n",
    "precision, recall, thresholds = precision_recall_curve(y_test, dtc_smote_prob[:, 1])\n",
    "\n",
    "# plot PR curve\n",
    "plt.plot(recall, precision, marker='.', label='Logistic')\n",
    "# axis labels\n",
    "plt.xlabel('Recall')\n",
    "plt.ylabel('Precision')\n",
    "# show the legend\n",
    "plt.legend()\n",
    "plt.show()\n",
    "\n",
    "# calculate and print PR AUC\n",
    "auc_pr = auc(recall, precision)\n",
    "print('AUC PR: %.3f' % auc_pr)"
   ]
  },
  {
   "cell_type": "markdown",
   "id": "23b4c808-9104-46ff-97c8-3e0a6ca44263",
   "metadata": {},
   "source": [
    "## 5. Discussion"
   ]
  },
  {
   "cell_type": "markdown",
   "id": "2a332d67-bbaa-46e9-88e9-50e4fbb70bff",
   "metadata": {},
   "source": []
  }
 ],
 "metadata": {
  "kernelspec": {
   "display_name": "tf",
   "language": "python",
   "name": "tf"
  },
  "language_info": {
   "codemirror_mode": {
    "name": "ipython",
    "version": 3
   },
   "file_extension": ".py",
   "mimetype": "text/x-python",
   "name": "python",
   "nbconvert_exporter": "python",
   "pygments_lexer": "ipython3",
   "version": "3.11.0"
  }
 },
 "nbformat": 4,
 "nbformat_minor": 5
}
